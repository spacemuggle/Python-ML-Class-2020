{
 "cells": [
  {
   "cell_type": "code",
   "execution_count": 1,
   "metadata": {},
   "outputs": [
    {
     "name": "stdout",
     "output_type": "stream",
     "text": [
      "[1, 1, 2, 3, 5, 8, 13, 21, 34, 55]\n"
     ]
    }
   ],
   "source": [
    "# What is the Fibonacci number at position X in the sequence?\n",
    "# fib(X) = fib(X-1) + fib(X-2)\n",
    "\n",
    "def Fibonacci(X):\n",
    "    if X<2:\n",
    "        return 1\n",
    "    else:\n",
    "        return Fibonacci(X-1) + Fibonacci(X-2)\n",
    "\n",
    "print([Fibonacci(X) for X in range(0,10)])"
   ]
  },
  {
   "cell_type": "markdown",
   "metadata": {},
   "source": [
    "PCC4.1 Write a recursive function for computing X factorial. Print the list of factorials from 1 to 10."
   ]
  },
  {
   "cell_type": "code",
   "execution_count": 2,
   "metadata": {},
   "outputs": [
    {
     "name": "stdout",
     "output_type": "stream",
     "text": [
      "[1, 1, 2, 6, 24, 120, 720, 5040, 40320, 362880]\n"
     ]
    }
   ],
   "source": [
    "def Factorial(X):\n",
    "    if X <= 1:\n",
    "        return 1\n",
    "    else:\n",
    "        return Factorial(X-1)*X\n",
    "\n",
    "print([Factorial(X) for X in range(0,10)])"
   ]
  },
  {
   "cell_type": "markdown",
   "metadata": {},
   "source": [
    "PCC4.2 Pell Numbers are defined as:\n",
    "\n",
    "  $$ P_n = \\begin{cases} 0 & n=0 \\\\ 1 & n=1 \\\\ P_{n-2} + 2P_{n-1} & \\text{else} \\end{cases} $$\n",
    "  \n",
    "Write a recursive function for computing Pell Numbers. Print the list of Pell Numbers from 0 to 20."
   ]
  },
  {
   "cell_type": "code",
   "execution_count": 4,
   "metadata": {},
   "outputs": [
    {
     "name": "stdout",
     "output_type": "stream",
     "text": [
      "[0, 1, 2, 5, 12, 29, 70, 169, 408, 985, 2378, 5741, 13860, 33461, 80782, 195025, 470832, 1136689, 2744210, 6625109]\n"
     ]
    }
   ],
   "source": [
    "def PellNumbers(n):\n",
    "    if n <=1:\n",
    "        return n\n",
    "    else:\n",
    "        return PellNumbers(n-2)+2*PellNumbers(n-1)\n",
    "\n",
    "print([PellNumbers(n) for n in range(0,20)])"
   ]
  },
  {
   "cell_type": "code",
   "execution_count": null,
   "metadata": {},
   "outputs": [],
   "source": []
  }
 ],
 "metadata": {
  "kernelspec": {
   "display_name": "Python 3",
   "language": "python",
   "name": "python3"
  },
  "language_info": {
   "codemirror_mode": {
    "name": "ipython",
    "version": 3
   },
   "file_extension": ".py",
   "mimetype": "text/x-python",
   "name": "python",
   "nbconvert_exporter": "python",
   "pygments_lexer": "ipython3",
   "version": "3.7.4"
  }
 },
 "nbformat": 4,
 "nbformat_minor": 4
}
