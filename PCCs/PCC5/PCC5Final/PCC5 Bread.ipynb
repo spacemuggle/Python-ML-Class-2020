{
 "cells": [
  {
   "cell_type": "code",
   "execution_count": 1,
   "metadata": {},
   "outputs": [],
   "source": [
    "import warnings\n",
    "warnings.filterwarnings('ignore')\n",
    "\n",
    "import numpy as np\n",
    "import pandas as pd\n",
    "from IPython.core import display as ICD\n",
    "import matplotlib.pyplot as plt"
   ]
  },
  {
   "cell_type": "code",
   "execution_count": 2,
   "metadata": {},
   "outputs": [],
   "source": [
    "file_path = 'C:/Users/James Sloan/Documents/School/IE 4910 Python ML/Assignments/PCC5/PCC5 - Datasets/'\n",
    "bread = pd.read_csv(file_path + 'Bread Composition.csv')"
   ]
  },
  {
   "cell_type": "code",
   "execution_count": 3,
   "metadata": {},
   "outputs": [
    {
     "name": "stdout",
     "output_type": "stream",
     "text": [
      "fixed acidity           float64\n",
      "volatile acidity        float64\n",
      "citric acid             float64\n",
      "residual sugar          float64\n",
      "chlorides               float64\n",
      "free sulfur dioxide     float64\n",
      "total sulfur dioxide    float64\n",
      "density                 float64\n",
      "pH                      float64\n",
      "sulphates               float64\n",
      "alcohol                 float64\n",
      "quality                   int64\n",
      "dtype: object\n",
      "shape: (1599, 12)\n"
     ]
    },
    {
     "data": {
      "text/html": [
       "<div>\n",
       "<style scoped>\n",
       "    .dataframe tbody tr th:only-of-type {\n",
       "        vertical-align: middle;\n",
       "    }\n",
       "\n",
       "    .dataframe tbody tr th {\n",
       "        vertical-align: top;\n",
       "    }\n",
       "\n",
       "    .dataframe thead th {\n",
       "        text-align: right;\n",
       "    }\n",
       "</style>\n",
       "<table border=\"1\" class=\"dataframe\">\n",
       "  <thead>\n",
       "    <tr style=\"text-align: right;\">\n",
       "      <th></th>\n",
       "      <th>fixed acidity</th>\n",
       "      <th>volatile acidity</th>\n",
       "      <th>citric acid</th>\n",
       "      <th>residual sugar</th>\n",
       "      <th>chlorides</th>\n",
       "      <th>free sulfur dioxide</th>\n",
       "      <th>total sulfur dioxide</th>\n",
       "      <th>density</th>\n",
       "      <th>pH</th>\n",
       "      <th>sulphates</th>\n",
       "      <th>alcohol</th>\n",
       "      <th>quality</th>\n",
       "    </tr>\n",
       "  </thead>\n",
       "  <tbody>\n",
       "    <tr>\n",
       "      <td>0</td>\n",
       "      <td>7.4</td>\n",
       "      <td>0.70</td>\n",
       "      <td>0.00</td>\n",
       "      <td>1.9</td>\n",
       "      <td>0.076</td>\n",
       "      <td>11.0</td>\n",
       "      <td>34.0</td>\n",
       "      <td>0.9978</td>\n",
       "      <td>3.51</td>\n",
       "      <td>0.56</td>\n",
       "      <td>9.4</td>\n",
       "      <td>5</td>\n",
       "    </tr>\n",
       "    <tr>\n",
       "      <td>1</td>\n",
       "      <td>7.8</td>\n",
       "      <td>0.88</td>\n",
       "      <td>0.00</td>\n",
       "      <td>2.6</td>\n",
       "      <td>0.098</td>\n",
       "      <td>25.0</td>\n",
       "      <td>67.0</td>\n",
       "      <td>0.9968</td>\n",
       "      <td>3.20</td>\n",
       "      <td>0.68</td>\n",
       "      <td>9.8</td>\n",
       "      <td>5</td>\n",
       "    </tr>\n",
       "    <tr>\n",
       "      <td>2</td>\n",
       "      <td>7.8</td>\n",
       "      <td>0.76</td>\n",
       "      <td>0.04</td>\n",
       "      <td>2.3</td>\n",
       "      <td>0.092</td>\n",
       "      <td>15.0</td>\n",
       "      <td>54.0</td>\n",
       "      <td>0.9970</td>\n",
       "      <td>3.26</td>\n",
       "      <td>0.65</td>\n",
       "      <td>9.8</td>\n",
       "      <td>5</td>\n",
       "    </tr>\n",
       "    <tr>\n",
       "      <td>3</td>\n",
       "      <td>11.2</td>\n",
       "      <td>0.28</td>\n",
       "      <td>0.56</td>\n",
       "      <td>1.9</td>\n",
       "      <td>0.075</td>\n",
       "      <td>17.0</td>\n",
       "      <td>60.0</td>\n",
       "      <td>0.9980</td>\n",
       "      <td>3.16</td>\n",
       "      <td>0.58</td>\n",
       "      <td>9.8</td>\n",
       "      <td>6</td>\n",
       "    </tr>\n",
       "    <tr>\n",
       "      <td>4</td>\n",
       "      <td>7.4</td>\n",
       "      <td>0.70</td>\n",
       "      <td>0.00</td>\n",
       "      <td>1.9</td>\n",
       "      <td>0.076</td>\n",
       "      <td>11.0</td>\n",
       "      <td>34.0</td>\n",
       "      <td>0.9978</td>\n",
       "      <td>3.51</td>\n",
       "      <td>0.56</td>\n",
       "      <td>9.4</td>\n",
       "      <td>5</td>\n",
       "    </tr>\n",
       "  </tbody>\n",
       "</table>\n",
       "</div>"
      ],
      "text/plain": [
       "   fixed acidity  volatile acidity  citric acid  residual sugar  chlorides  \\\n",
       "0            7.4              0.70         0.00             1.9      0.076   \n",
       "1            7.8              0.88         0.00             2.6      0.098   \n",
       "2            7.8              0.76         0.04             2.3      0.092   \n",
       "3           11.2              0.28         0.56             1.9      0.075   \n",
       "4            7.4              0.70         0.00             1.9      0.076   \n",
       "\n",
       "   free sulfur dioxide  total sulfur dioxide  density    pH  sulphates  \\\n",
       "0                 11.0                  34.0   0.9978  3.51       0.56   \n",
       "1                 25.0                  67.0   0.9968  3.20       0.68   \n",
       "2                 15.0                  54.0   0.9970  3.26       0.65   \n",
       "3                 17.0                  60.0   0.9980  3.16       0.58   \n",
       "4                 11.0                  34.0   0.9978  3.51       0.56   \n",
       "\n",
       "   alcohol  quality  \n",
       "0      9.4        5  \n",
       "1      9.8        5  \n",
       "2      9.8        5  \n",
       "3      9.8        6  \n",
       "4      9.4        5  "
      ]
     },
     "metadata": {},
     "output_type": "display_data"
    }
   ],
   "source": [
    "print(bread.dtypes)\n",
    "orig_shape = bread.shape\n",
    "print('shape: {}'.format(orig_shape))\n",
    "display(bread.head(5))"
   ]
  },
  {
   "cell_type": "code",
   "execution_count": 4,
   "metadata": {},
   "outputs": [
    {
     "name": "stdout",
     "output_type": "stream",
     "text": [
      "Count of Null Data Points:\n"
     ]
    },
    {
     "data": {
      "text/html": [
       "<div>\n",
       "<style scoped>\n",
       "    .dataframe tbody tr th:only-of-type {\n",
       "        vertical-align: middle;\n",
       "    }\n",
       "\n",
       "    .dataframe tbody tr th {\n",
       "        vertical-align: top;\n",
       "    }\n",
       "\n",
       "    .dataframe thead th {\n",
       "        text-align: right;\n",
       "    }\n",
       "</style>\n",
       "<table border=\"1\" class=\"dataframe\">\n",
       "  <thead>\n",
       "    <tr style=\"text-align: right;\">\n",
       "      <th></th>\n",
       "      <th>0</th>\n",
       "    </tr>\n",
       "  </thead>\n",
       "  <tbody>\n",
       "    <tr>\n",
       "      <td>fixed acidity</td>\n",
       "      <td>0</td>\n",
       "    </tr>\n",
       "    <tr>\n",
       "      <td>volatile acidity</td>\n",
       "      <td>0</td>\n",
       "    </tr>\n",
       "    <tr>\n",
       "      <td>citric acid</td>\n",
       "      <td>0</td>\n",
       "    </tr>\n",
       "    <tr>\n",
       "      <td>residual sugar</td>\n",
       "      <td>0</td>\n",
       "    </tr>\n",
       "    <tr>\n",
       "      <td>chlorides</td>\n",
       "      <td>0</td>\n",
       "    </tr>\n",
       "    <tr>\n",
       "      <td>free sulfur dioxide</td>\n",
       "      <td>0</td>\n",
       "    </tr>\n",
       "    <tr>\n",
       "      <td>total sulfur dioxide</td>\n",
       "      <td>0</td>\n",
       "    </tr>\n",
       "    <tr>\n",
       "      <td>density</td>\n",
       "      <td>0</td>\n",
       "    </tr>\n",
       "    <tr>\n",
       "      <td>pH</td>\n",
       "      <td>0</td>\n",
       "    </tr>\n",
       "    <tr>\n",
       "      <td>sulphates</td>\n",
       "      <td>0</td>\n",
       "    </tr>\n",
       "    <tr>\n",
       "      <td>alcohol</td>\n",
       "      <td>0</td>\n",
       "    </tr>\n",
       "    <tr>\n",
       "      <td>quality</td>\n",
       "      <td>0</td>\n",
       "    </tr>\n",
       "  </tbody>\n",
       "</table>\n",
       "</div>"
      ],
      "text/plain": [
       "                      0\n",
       "fixed acidity         0\n",
       "volatile acidity      0\n",
       "citric acid           0\n",
       "residual sugar        0\n",
       "chlorides             0\n",
       "free sulfur dioxide   0\n",
       "total sulfur dioxide  0\n",
       "density               0\n",
       "pH                    0\n",
       "sulphates             0\n",
       "alcohol               0\n",
       "quality               0"
      ]
     },
     "metadata": {},
     "output_type": "display_data"
    }
   ],
   "source": [
    "#check for Nan values\n",
    "null = pd.DataFrame(bread.isnull().sum())\n",
    "print('Count of Null Data Points:')\n",
    "display(null)"
   ]
  },
  {
   "cell_type": "code",
   "execution_count": 5,
   "metadata": {},
   "outputs": [
    {
     "data": {
      "text/html": [
       "<div>\n",
       "<style scoped>\n",
       "    .dataframe tbody tr th:only-of-type {\n",
       "        vertical-align: middle;\n",
       "    }\n",
       "\n",
       "    .dataframe tbody tr th {\n",
       "        vertical-align: top;\n",
       "    }\n",
       "\n",
       "    .dataframe thead th {\n",
       "        text-align: right;\n",
       "    }\n",
       "</style>\n",
       "<table border=\"1\" class=\"dataframe\">\n",
       "  <thead>\n",
       "    <tr style=\"text-align: right;\">\n",
       "      <th></th>\n",
       "      <th>fixed acidity</th>\n",
       "      <th>volatile acidity</th>\n",
       "      <th>citric acid</th>\n",
       "      <th>residual sugar</th>\n",
       "      <th>chlorides</th>\n",
       "      <th>free sulfur dioxide</th>\n",
       "      <th>total sulfur dioxide</th>\n",
       "      <th>density</th>\n",
       "      <th>pH</th>\n",
       "      <th>sulphates</th>\n",
       "      <th>alcohol</th>\n",
       "      <th>quality</th>\n",
       "    </tr>\n",
       "  </thead>\n",
       "  <tbody>\n",
       "    <tr>\n",
       "      <td>count</td>\n",
       "      <td>1599.000000</td>\n",
       "      <td>1599.000000</td>\n",
       "      <td>1599.000000</td>\n",
       "      <td>1599.000000</td>\n",
       "      <td>1599.000000</td>\n",
       "      <td>1599.000000</td>\n",
       "      <td>1599.000000</td>\n",
       "      <td>1599.000000</td>\n",
       "      <td>1599.000000</td>\n",
       "      <td>1599.000000</td>\n",
       "      <td>1599.000000</td>\n",
       "      <td>1599.000000</td>\n",
       "    </tr>\n",
       "    <tr>\n",
       "      <td>mean</td>\n",
       "      <td>8.319637</td>\n",
       "      <td>0.527821</td>\n",
       "      <td>0.270976</td>\n",
       "      <td>2.538806</td>\n",
       "      <td>0.087467</td>\n",
       "      <td>15.874922</td>\n",
       "      <td>46.467792</td>\n",
       "      <td>0.996747</td>\n",
       "      <td>3.311113</td>\n",
       "      <td>0.658149</td>\n",
       "      <td>10.422983</td>\n",
       "      <td>5.636023</td>\n",
       "    </tr>\n",
       "    <tr>\n",
       "      <td>std</td>\n",
       "      <td>1.741096</td>\n",
       "      <td>0.179060</td>\n",
       "      <td>0.194801</td>\n",
       "      <td>1.409928</td>\n",
       "      <td>0.047065</td>\n",
       "      <td>10.460157</td>\n",
       "      <td>32.895324</td>\n",
       "      <td>0.001887</td>\n",
       "      <td>0.154386</td>\n",
       "      <td>0.169507</td>\n",
       "      <td>1.065668</td>\n",
       "      <td>0.807569</td>\n",
       "    </tr>\n",
       "    <tr>\n",
       "      <td>min</td>\n",
       "      <td>4.600000</td>\n",
       "      <td>0.120000</td>\n",
       "      <td>0.000000</td>\n",
       "      <td>0.900000</td>\n",
       "      <td>0.012000</td>\n",
       "      <td>1.000000</td>\n",
       "      <td>6.000000</td>\n",
       "      <td>0.990070</td>\n",
       "      <td>2.740000</td>\n",
       "      <td>0.330000</td>\n",
       "      <td>8.400000</td>\n",
       "      <td>3.000000</td>\n",
       "    </tr>\n",
       "    <tr>\n",
       "      <td>25%</td>\n",
       "      <td>7.100000</td>\n",
       "      <td>0.390000</td>\n",
       "      <td>0.090000</td>\n",
       "      <td>1.900000</td>\n",
       "      <td>0.070000</td>\n",
       "      <td>7.000000</td>\n",
       "      <td>22.000000</td>\n",
       "      <td>0.995600</td>\n",
       "      <td>3.210000</td>\n",
       "      <td>0.550000</td>\n",
       "      <td>9.500000</td>\n",
       "      <td>5.000000</td>\n",
       "    </tr>\n",
       "    <tr>\n",
       "      <td>50%</td>\n",
       "      <td>7.900000</td>\n",
       "      <td>0.520000</td>\n",
       "      <td>0.260000</td>\n",
       "      <td>2.200000</td>\n",
       "      <td>0.079000</td>\n",
       "      <td>14.000000</td>\n",
       "      <td>38.000000</td>\n",
       "      <td>0.996750</td>\n",
       "      <td>3.310000</td>\n",
       "      <td>0.620000</td>\n",
       "      <td>10.200000</td>\n",
       "      <td>6.000000</td>\n",
       "    </tr>\n",
       "    <tr>\n",
       "      <td>75%</td>\n",
       "      <td>9.200000</td>\n",
       "      <td>0.640000</td>\n",
       "      <td>0.420000</td>\n",
       "      <td>2.600000</td>\n",
       "      <td>0.090000</td>\n",
       "      <td>21.000000</td>\n",
       "      <td>62.000000</td>\n",
       "      <td>0.997835</td>\n",
       "      <td>3.400000</td>\n",
       "      <td>0.730000</td>\n",
       "      <td>11.100000</td>\n",
       "      <td>6.000000</td>\n",
       "    </tr>\n",
       "    <tr>\n",
       "      <td>max</td>\n",
       "      <td>15.900000</td>\n",
       "      <td>1.580000</td>\n",
       "      <td>1.000000</td>\n",
       "      <td>15.500000</td>\n",
       "      <td>0.611000</td>\n",
       "      <td>72.000000</td>\n",
       "      <td>289.000000</td>\n",
       "      <td>1.003690</td>\n",
       "      <td>4.010000</td>\n",
       "      <td>2.000000</td>\n",
       "      <td>14.900000</td>\n",
       "      <td>8.000000</td>\n",
       "    </tr>\n",
       "  </tbody>\n",
       "</table>\n",
       "</div>"
      ],
      "text/plain": [
       "       fixed acidity  volatile acidity  citric acid  residual sugar  \\\n",
       "count    1599.000000       1599.000000  1599.000000     1599.000000   \n",
       "mean        8.319637          0.527821     0.270976        2.538806   \n",
       "std         1.741096          0.179060     0.194801        1.409928   \n",
       "min         4.600000          0.120000     0.000000        0.900000   \n",
       "25%         7.100000          0.390000     0.090000        1.900000   \n",
       "50%         7.900000          0.520000     0.260000        2.200000   \n",
       "75%         9.200000          0.640000     0.420000        2.600000   \n",
       "max        15.900000          1.580000     1.000000       15.500000   \n",
       "\n",
       "         chlorides  free sulfur dioxide  total sulfur dioxide      density  \\\n",
       "count  1599.000000          1599.000000           1599.000000  1599.000000   \n",
       "mean      0.087467            15.874922             46.467792     0.996747   \n",
       "std       0.047065            10.460157             32.895324     0.001887   \n",
       "min       0.012000             1.000000              6.000000     0.990070   \n",
       "25%       0.070000             7.000000             22.000000     0.995600   \n",
       "50%       0.079000            14.000000             38.000000     0.996750   \n",
       "75%       0.090000            21.000000             62.000000     0.997835   \n",
       "max       0.611000            72.000000            289.000000     1.003690   \n",
       "\n",
       "                pH    sulphates      alcohol      quality  \n",
       "count  1599.000000  1599.000000  1599.000000  1599.000000  \n",
       "mean      3.311113     0.658149    10.422983     5.636023  \n",
       "std       0.154386     0.169507     1.065668     0.807569  \n",
       "min       2.740000     0.330000     8.400000     3.000000  \n",
       "25%       3.210000     0.550000     9.500000     5.000000  \n",
       "50%       3.310000     0.620000    10.200000     6.000000  \n",
       "75%       3.400000     0.730000    11.100000     6.000000  \n",
       "max       4.010000     2.000000    14.900000     8.000000  "
      ]
     },
     "execution_count": 5,
     "metadata": {},
     "output_type": "execute_result"
    }
   ],
   "source": [
    "#Summary Stats\n",
    "bread.describe()"
   ]
  },
  {
   "cell_type": "code",
   "execution_count": 6,
   "metadata": {},
   "outputs": [
    {
     "name": "stdout",
     "output_type": "stream",
     "text": [
      "Original Shape: (1599, 12)\n",
      "New Shape: (1591, 12)\n"
     ]
    }
   ],
   "source": [
    "#drop impossible acidity levels\n",
    "bread = bread[bread['fixed acidity'] <= 14 ]\n",
    "print('Original Shape: {}\\nNew Shape: {}'.format(orig_shape,bread.shape))"
   ]
  },
  {
   "cell_type": "code",
   "execution_count": 7,
   "metadata": {},
   "outputs": [
    {
     "data": {
      "text/plain": [
       "Text(0.5, 0, 'pH')"
      ]
     },
     "execution_count": 7,
     "metadata": {},
     "output_type": "execute_result"
    },
    {
     "data": {
      "image/png": "[encoded data removed]",
      "text/plain": [
       "<Figure size 360x360 with 1 Axes>"
      ]
     },
     "metadata": {
      "needs_background": "light"
     },
     "output_type": "display_data"
    }
   ],
   "source": [
    "#Histogram for ph\n",
    "\n",
    "bread['pH'].hist(figsize = (5,5))\n",
    "plt.xlabel('pH')"
   ]
  },
  {
   "cell_type": "code",
   "execution_count": 8,
   "metadata": {},
   "outputs": [
    {
     "data": {
      "text/plain": [
       "Text(0.5, 0, 'residual sugar')"
      ]
     },
     "execution_count": 8,
     "metadata": {},
     "output_type": "execute_result"
    },
    {
     "data": {
      "image/png": "[encoded data removed]",
      "text/plain": [
       "<Figure size 360x360 with 1 Axes>"
      ]
     },
     "metadata": {
      "needs_background": "light"
     },
     "output_type": "display_data"
    }
   ],
   "source": [
    "#hist of residual sugar\n",
    "\n",
    "bread['residual sugar'].hist(figsize = (5,5))\n",
    "plt.xlabel('residual sugar')"
   ]
  },
  {
   "cell_type": "code",
   "execution_count": 9,
   "metadata": {},
   "outputs": [
    {
     "data": {
      "text/plain": [
       "Text(0.5, 0, 'alcohol')"
      ]
     },
     "execution_count": 9,
     "metadata": {},
     "output_type": "execute_result"
    },
    {
     "data": {
      "image/png": "[encoded data removed]",
      "text/plain": [
       "<Figure size 360x360 with 1 Axes>"
      ]
     },
     "metadata": {
      "needs_background": "light"
     },
     "output_type": "display_data"
    }
   ],
   "source": [
    "#hist of alcohol\n",
    "\n",
    "bread['alcohol'].hist(figsize = (5,5))\n",
    "plt.xlabel('alcohol')"
   ]
  },
  {
   "cell_type": "code",
   "execution_count": 10,
   "metadata": {},
   "outputs": [
    {
     "data": {
      "text/plain": [
       "Text(0.5, 0, 'free sulfer dioxide')"
      ]
     },
     "execution_count": 10,
     "metadata": {},
     "output_type": "execute_result"
    },
    {
     "data": {
      "image/png": "[encoded data removed]",
      "text/plain": [
       "<Figure size 360x360 with 1 Axes>"
      ]
     },
     "metadata": {
      "needs_background": "light"
     },
     "output_type": "display_data"
    }
   ],
   "source": [
    "# hist of free sulfer dioxide\n",
    "\n",
    "bread['free sulfur dioxide'].hist(figsize = (5,5))\n",
    "plt.xlabel('free sulfer dioxide')"
   ]
  },
  {
   "cell_type": "code",
   "execution_count": 11,
   "metadata": {},
   "outputs": [
    {
     "data": {
      "text/plain": [
       "Text(0.5, 0, 'total sulfur dioxide')"
      ]
     },
     "execution_count": 11,
     "metadata": {},
     "output_type": "execute_result"
    },
    {
     "data": {
      "image/png": "[encoded data removed]",
      "text/plain": [
       "<Figure size 360x360 with 1 Axes>"
      ]
     },
     "metadata": {
      "needs_background": "light"
     },
     "output_type": "display_data"
    }
   ],
   "source": [
    "#hist of total sulfer dioxide\n",
    "\n",
    "bread['total sulfur dioxide'].hist(figsize=(5,5))\n",
    "plt.xlabel('total sulfur dioxide')"
   ]
  },
  {
   "cell_type": "code",
   "execution_count": 12,
   "metadata": {},
   "outputs": [],
   "source": [
    "#scale data\n",
    "from sklearn.preprocessing import StandardScaler\n",
    "\n",
    "bread_col_names = bread.columns\n",
    "\n",
    "scaler = StandardScaler()\n",
    "bread_scaled = scaler.fit_transform(bread)\n",
    "\n",
    "#Split data into x and y\n",
    "x = bread_scaled[:,0:10]\n",
    "y = bread['quality']"
   ]
  },
  {
   "cell_type": "code",
   "execution_count": 13,
   "metadata": {},
   "outputs": [
    {
     "name": "stdout",
     "output_type": "stream",
     "text": [
      "(C = 1) score: 0.4263322884012539\n",
      "(C = 2) score: 0.445141065830721\n",
      "(C = 4) score: 0.44200626959247646\n",
      "(C = 6) score: 0.42946708463949845\n",
      "(C = 8) score: 0.4702194357366771\n",
      "(C = 10) score: 0.38557993730407525\n",
      "(C = 12) score: 0.4106583072100313\n",
      "(C = 14) score: 0.49216300940438873\n",
      "(C = 16) score: 0.5172413793103449\n",
      "(C = 18) score: 0.5235109717868338\n",
      "(C = 20) score: 0.54858934169279\n",
      "(C = 22) score: 0.5047021943573667\n",
      "(C = 24) score: 0.49216300940438873\n",
      "(C = 26) score: 0.5047021943573667\n",
      "(C = 28) score: 0.5047021943573667\n",
      "(C = 30) score: 0.5015673981191222\n",
      "(C = 32) score: 0.5235109717868338\n",
      "(C = 34) score: 0.45454545454545453\n",
      "(C = 36) score: 0.5235109717868338\n",
      "(C = 38) score: 0.47648902821316613\n",
      "(C = 40) score: 0.47962382445141066\n",
      "(C = 42) score: 0.542319749216301\n",
      "(C = 44) score: 0.542319749216301\n",
      "(C = 46) score: 0.542319749216301\n",
      "(C = 48) score: 0.567398119122257\n",
      "(C = 50) score: 0.5141065830721003\n",
      "(C = 52) score: 0.5047021943573667\n",
      "(C = 54) score: 0.5297805642633229\n",
      "(C = 56) score: 0.542319749216301\n",
      "(C = 58) score: 0.5517241379310345\n",
      "(C = 60) score: 0.5454545454545454\n",
      "(C = 62) score: 0.5642633228840125\n",
      "(C = 64) score: 0.4702194357366771\n",
      "(C = 66) score: 0.5329153605015674\n",
      "(C = 68) score: 0.5235109717868338\n",
      "(C = 70) score: 0.5329153605015674\n",
      "(C = 72) score: 0.4702194357366771\n",
      "(C = 74) score: 0.5141065830721003\n",
      "(C = 76) score: 0.5266457680250783\n",
      "(C = 78) score: 0.4952978056426332\n",
      "(C = 80) score: 0.4890282131661442\n",
      "(C = 82) score: 0.5391849529780565\n",
      "(C = 84) score: 0.5203761755485894\n",
      "(C = 86) score: 0.47962382445141066\n",
      "(C = 88) score: 0.5078369905956113\n",
      "(C = 90) score: 0.5329153605015674\n",
      "(C = 92) score: 0.54858934169279\n",
      "(C = 94) score: 0.5360501567398119\n",
      "(C = 96) score: 0.5799373040752351\n",
      "(C = 98) score: 0.49843260188087773\n",
      "(C = 100) score: 0.49216300940438873\n",
      "(C = 102) score: 0.554858934169279\n",
      "(C = 104) score: 0.5141065830721003\n",
      "(C = 106) score: 0.5266457680250783\n",
      "(C = 108) score: 0.5266457680250783\n",
      "(C = 110) score: 0.47648902821316613\n",
      "(C = 112) score: 0.5329153605015674\n",
      "(C = 114) score: 0.49843260188087773\n",
      "(C = 116) score: 0.4952978056426332\n",
      "(C = 118) score: 0.5047021943573667\n",
      "(C = 120) score: 0.4890282131661442\n",
      "(C = 122) score: 0.47648902821316613\n",
      "(C = 124) score: 0.542319749216301\n",
      "(C = 126) score: 0.4702194357366771\n",
      "(C = 128) score: 0.5517241379310345\n",
      "(C = 130) score: 0.4827586206896552\n",
      "(C = 132) score: 0.5109717868338558\n",
      "(C = 134) score: 0.49843260188087773\n",
      "(C = 136) score: 0.4827586206896552\n",
      "(C = 138) score: 0.5047021943573667\n",
      "(C = 140) score: 0.542319749216301\n",
      "(C = 142) score: 0.49843260188087773\n",
      "(C = 144) score: 0.47335423197492166\n",
      "(C = 146) score: 0.5078369905956113\n",
      "(C = 148) score: 0.5391849529780565\n",
      "(C = 150) score: 0.45454545454545453\n"
     ]
    },
    {
     "data": {
      "text/plain": [
       "Text(0, 0.5, 'model score')"
      ]
     },
     "execution_count": 13,
     "metadata": {},
     "output_type": "execute_result"
    },
    {
     "data": {
      "image/png": "[encoded data removed]",
      "text/plain": [
       "<Figure size 432x288 with 1 Axes>"
      ]
     },
     "metadata": {
      "needs_background": "light"
     },
     "output_type": "display_data"
    }
   ],
   "source": [
    "#SVM parameter analysis\n",
    "from sklearn import model_selection\n",
    "from sklearn.svm import LinearSVC\n",
    "\n",
    "X_train,X_test,y_train,y_test = model_selection.train_test_split(x, y,\n",
    "                                                test_size = 0.2,\n",
    "                                                random_state = 42)\n",
    "\n",
    "SVC_score = {}\n",
    "for c in range(0,151,2):\n",
    "    if c==0:\n",
    "        c=1\n",
    "    svm_model = LinearSVC(C=c, loss='hinge', random_state = 42)\n",
    "    svm_model.fit(X_train,y_train)\n",
    "    SVC_score[c] = svm_model.score(X_test,y_test)\n",
    "\n",
    "Cx=[]\n",
    "Cy=[]\n",
    "for key in SVC_score.keys():\n",
    "    print('(C = {}) score: {}'.format(key,SVC_score[key]))\n",
    "    Cx.append(key)\n",
    "    Cy.append(SVC_score[key])\n",
    "\n",
    "#plot scores\n",
    "plt.plot(Cx,Cy)\n",
    "plt.title('SVM score with varied C')\n",
    "plt.xlabel('C value')\n",
    "plt.ylabel('model score')"
   ]
  },
  {
   "cell_type": "code",
   "execution_count": 14,
   "metadata": {},
   "outputs": [
    {
     "data": {
      "text/plain": [
       "0.567398119122257"
      ]
     },
     "execution_count": 14,
     "metadata": {},
     "output_type": "execute_result"
    }
   ],
   "source": [
    "SVC_score[48]"
   ]
  },
  {
   "cell_type": "code",
   "execution_count": 15,
   "metadata": {},
   "outputs": [
    {
     "data": {
      "text/plain": [
       "LinearSVC(C=48, class_weight=None, dual=True, fit_intercept=True,\n",
       "          intercept_scaling=1, loss='hinge', max_iter=1000, multi_class='ovr',\n",
       "          penalty='l2', random_state=42, tol=0.0001, verbose=0)"
      ]
     },
     "execution_count": 15,
     "metadata": {},
     "output_type": "execute_result"
    }
   ],
   "source": [
    "#Set svm model to C=48 (diminishing returns after that point)\n",
    "svm_model = LinearSVC(C=48, loss='hinge', random_state = 42)\n",
    "svm_model.fit(X_train,y_train)"
   ]
  },
  {
   "cell_type": "code",
   "execution_count": 16,
   "metadata": {},
   "outputs": [
    {
     "data": {
      "text/plain": [
       "Text(0.5, 1.0, 'Max depth parameter analysis (test size: 20%)')"
      ]
     },
     "execution_count": 16,
     "metadata": {},
     "output_type": "execute_result"
    },
    {
     "data": {
      "image/png": "[encoded data removed]",
      "text/plain": [
       "<Figure size 432x288 with 1 Axes>"
      ]
     },
     "metadata": {
      "needs_background": "light"
     },
     "output_type": "display_data"
    }
   ],
   "source": [
    "#Decision Tree parameter analysis\n",
    "from sklearn.tree import DecisionTreeClassifier\n",
    "\n",
    "DT_score = {}\n",
    "for depth in range(1,21):\n",
    "    dt_model = DecisionTreeClassifier(max_depth = depth, \n",
    "                                      random_state = 42)\n",
    "    dt_model.fit(X_train,y_train)\n",
    "    DT_score[depth] = dt_model.score(X_test,y_test)\n",
    "\n",
    "depths = []\n",
    "dscores = []\n",
    "for key in DT_score.keys():\n",
    "    depths.append(key)\n",
    "    dscores.append(DT_score[key])\n",
    "\n",
    "plt.plot(depths,dscores)\n",
    "plt.xlabel('max depth')\n",
    "plt.ylabel('model score')\n",
    "plt.title('Max depth parameter analysis (test size: 20%)')"
   ]
  },
  {
   "cell_type": "code",
   "execution_count": 17,
   "metadata": {},
   "outputs": [
    {
     "data": {
      "text/plain": [
       "DecisionTreeClassifier(class_weight=None, criterion='gini', max_depth=6,\n",
       "                       max_features=None, max_leaf_nodes=None,\n",
       "                       min_impurity_decrease=0.0, min_impurity_split=None,\n",
       "                       min_samples_leaf=1, min_samples_split=2,\n",
       "                       min_weight_fraction_leaf=0.0, presort=False,\n",
       "                       random_state=42, splitter='best')"
      ]
     },
     "execution_count": 17,
     "metadata": {},
     "output_type": "execute_result"
    }
   ],
   "source": [
    "#Set DT max depth to 6 (local max without overfitting too bad)\n",
    "dt_model = DecisionTreeClassifier(max_depth = 6, \n",
    "                                  random_state = 42)\n",
    "dt_model.fit(X_train,y_train)"
   ]
  },
  {
   "cell_type": "code",
   "execution_count": 18,
   "metadata": {},
   "outputs": [],
   "source": [
    "#RF parameter analysis\n",
    "#WARNING: THIS TAKES QUITE A WHILE TO RUN\n",
    "from sklearn.ensemble import RandomForestClassifier\n",
    "\n",
    "n_ = []\n",
    "mn_ = []\n",
    "score_ = []\n",
    "\n",
    "for n in range (0,1000,100):\n",
    "    if n == 0:\n",
    "        n=1\n",
    "    for max_l_n in range (5,55,5):\n",
    "        n_.append(n)\n",
    "        mn_.append(max_l_n)\n",
    "        rf_model = RandomForestClassifier(n_estimators = n, \n",
    "                                         max_leaf_nodes = max_l_n,\n",
    "                                         n_jobs = 1,\n",
    "                                         random_state = 42)\n",
    "        rf_model.fit(X_train, y_train)\n",
    "        score_.append(rf_model.score(X_test,y_test))"
   ]
  },
  {
   "cell_type": "code",
   "execution_count": 19,
   "metadata": {},
   "outputs": [
    {
     "data": {
      "text/plain": [
       "Text(0.5, 0.92, 'RF model score')"
      ]
     },
     "execution_count": 19,
     "metadata": {},
     "output_type": "execute_result"
    },
    {
     "data": {
      "image/png": "[encoded data removed]",
      "text/plain": [
       "<Figure size 432x288 with 1 Axes>"
      ]
     },
     "metadata": {
      "needs_background": "light"
     },
     "output_type": "display_data"
    }
   ],
   "source": [
    "#plot RF parameters\n",
    "from mpl_toolkits import mplot3d\n",
    "\n",
    "ax = plt.axes(projection='3d')\n",
    "ax.plot_trisurf(n_, mn_, score_, cmap='RdYlGn')\n",
    "plt.xlabel('num estimators')\n",
    "plt.ylabel('max leaf nodes')\n",
    "plt.title('RF model score')"
   ]
  },
  {
   "cell_type": "code",
   "execution_count": 20,
   "metadata": {},
   "outputs": [
    {
     "data": {
      "text/plain": [
       "RandomForestClassifier(bootstrap=True, class_weight=None, criterion='gini',\n",
       "                       max_depth=None, max_features='auto', max_leaf_nodes=50,\n",
       "                       min_impurity_decrease=0.0, min_impurity_split=None,\n",
       "                       min_samples_leaf=1, min_samples_split=2,\n",
       "                       min_weight_fraction_leaf=0.0, n_estimators=600, n_jobs=1,\n",
       "                       oob_score=False, random_state=42, verbose=0,\n",
       "                       warm_start=False)"
      ]
     },
     "execution_count": 20,
     "metadata": {},
     "output_type": "execute_result"
    }
   ],
   "source": [
    "#Set rf model to num estimators = 600, max leaf nodes = 50\n",
    "\n",
    "rf_model = RandomForestClassifier(n_estimators = 600, \n",
    "                                max_leaf_nodes = 50,\n",
    "                                n_jobs = 1,\n",
    "                                random_state = 42)\n",
    "rf_model.fit(X_train, y_train)"
   ]
  },
  {
   "cell_type": "code",
   "execution_count": 21,
   "metadata": {},
   "outputs": [],
   "source": [
    "#calc sensitivity analysis for all methods\n",
    "\n",
    "sen_x = []\n",
    "sen_svm = []\n",
    "sen_dt = []\n",
    "sen_rf = []\n",
    "\n",
    "for test_ratio in range(10,100,10):\n",
    "    \n",
    "    sen_x.append(test_ratio)\n",
    "    \n",
    "    X_train,X_test,y_train,y_test = model_selection.train_test_split(x, y,\n",
    "                                                test_size=test_ratio/100, \n",
    "                                                random_state=42)\n",
    "    \n",
    "    svm_model.fit(X_train,y_train)\n",
    "    sen_svm.append(svm_model.score(X_test,y_test))\n",
    "    \n",
    "    dt_model.fit(X_train,y_train)\n",
    "    sen_dt.append(dt_model.score(X_test,y_test))\n",
    "    \n",
    "    rf_model.fit(X_train,y_train)\n",
    "    sen_rf.append(rf_model.score(X_test,y_test))"
   ]
  },
  {
   "cell_type": "code",
   "execution_count": 22,
   "metadata": {},
   "outputs": [],
   "source": [
    "#plot sensitivity analysis results\n",
    "sen_all = [sen_x, sen_svm, sen_dt, sen_rf]\n",
    "sen_df = pd.DataFrame(sen_all)\n",
    "sen_df = sen_df.transpose()\n",
    "names = ['Test Ratio','SVM score','DT score','RF score']\n",
    "sen_df.rename(columns = {0:'test ratio',\n",
    "                         1:'SVM score',\n",
    "                         2:'DT score',\n",
    "                         3:'RF score'},\n",
    "             inplace = True)\n",
    "sen_df = sen_df.set_index('test ratio')"
   ]
  },
  {
   "cell_type": "code",
   "execution_count": 23,
   "metadata": {},
   "outputs": [
    {
     "data": {
      "text/plain": [
       "Text(0, 0.5, 'model score')"
      ]
     },
     "execution_count": 23,
     "metadata": {},
     "output_type": "execute_result"
    },
    {
     "data": {
      "image/png": "[encoded data removed]",
      "text/plain": [
       "<Figure size 432x288 with 1 Axes>"
      ]
     },
     "metadata": {
      "needs_background": "light"
     },
     "output_type": "display_data"
    }
   ],
   "source": [
    "sen_df.plot()\n",
    "plt.title('Sensitivity at ideal model parameters')\n",
    "plt.ylabel('model score')"
   ]
  },
  {
   "cell_type": "code",
   "execution_count": 24,
   "metadata": {},
   "outputs": [
    {
     "name": "stdout",
     "output_type": "stream",
     "text": [
      "SVM model:\n",
      "Confusion matrix:\n",
      "[[  2   3   2   2   0   0]\n",
      " [  0   8  21  17   0   3]\n",
      " [ 13  27 404 158   0  15]\n",
      " [  5  17 194 308   4  42]\n",
      " [  2   2  11 130   0  27]\n",
      " [  0   1   0  12   0   2]]\n",
      "Classification report:\n",
      "              precision    recall  f1-score   support\n",
      "\n",
      "           3       0.09      0.22      0.13         9\n",
      "           4       0.14      0.16      0.15        49\n",
      "           5       0.64      0.65      0.65       617\n",
      "           6       0.49      0.54      0.51       570\n",
      "           7       0.00      0.00      0.00       172\n",
      "           8       0.02      0.13      0.04        15\n",
      "\n",
      "    accuracy                           0.51      1432\n",
      "   macro avg       0.23      0.29      0.25      1432\n",
      "weighted avg       0.48      0.51      0.49      1432\n",
      "\n",
      "\n",
      "\n",
      "\n",
      "DT model:\n",
      "Confusion matrix:\n",
      "[[  0   0   3   6   0   0]\n",
      " [  0   1  15  31   1   1]\n",
      " [  0   2 310 289  12   4]\n",
      " [  0   2 136 353  71   8]\n",
      " [  0   3  15  96  53   5]\n",
      " [  0   0   2   9   4   0]]\n",
      "Classification report:\n",
      "              precision    recall  f1-score   support\n",
      "\n",
      "           3       0.00      0.00      0.00         9\n",
      "           4       0.12      0.02      0.04        49\n",
      "           5       0.64      0.50      0.56       617\n",
      "           6       0.45      0.62      0.52       570\n",
      "           7       0.38      0.31      0.34       172\n",
      "           8       0.00      0.00      0.00        15\n",
      "\n",
      "    accuracy                           0.50      1432\n",
      "   macro avg       0.27      0.24      0.24      1432\n",
      "weighted avg       0.51      0.50      0.49      1432\n",
      "\n",
      "\n",
      "\n",
      "\n",
      "RF model:\n",
      "Confusion matrix:\n",
      "[[  0   0   3   6   0   0]\n",
      " [  0   0  22  27   0   0]\n",
      " [  0   0 335 277   5   0]\n",
      " [  0   0 148 395  27   0]\n",
      " [  0   0  10 133  29   0]\n",
      " [  0   0   0  10   4   1]]\n",
      "Classification report:\n",
      "              precision    recall  f1-score   support\n",
      "\n",
      "           3       0.00      0.00      0.00         9\n",
      "           4       0.00      0.00      0.00        49\n",
      "           5       0.65      0.54      0.59       617\n",
      "           6       0.47      0.69      0.56       570\n",
      "           7       0.45      0.17      0.24       172\n",
      "           8       1.00      0.07      0.12        15\n",
      "\n",
      "    accuracy                           0.53      1432\n",
      "   macro avg       0.43      0.25      0.25      1432\n",
      "weighted avg       0.53      0.53      0.51      1432\n",
      "\n",
      "\n",
      "\n",
      "\n"
     ]
    }
   ],
   "source": [
    "#Report all for each model type with best params\n",
    "from sklearn.metrics import confusion_matrix\n",
    "from sklearn.metrics import classification_report\n",
    "\n",
    "models = [svm_model, dt_model, rf_model]\n",
    "name = {svm_model:'SVM',\n",
    "        dt_model:'DT',\n",
    "        rf_model:'RF'}\n",
    "confusion = {}\n",
    "report = {}\n",
    "model_score = {}\n",
    "for model in models:\n",
    "    prediction = model.predict(X_test)\n",
    "    confusion[name[model]] = confusion_matrix(y_test, prediction)\n",
    "    report[name[model]] = classification_report(y_test,prediction)\n",
    "    model_score[name[model]] = model.score(X_test, y_test)\n",
    "    \n",
    "for model in name.values():\n",
    "    print('{} model:'.format(model))\n",
    "    print('Confusion matrix:\\n{}'.format(confusion[model]))\n",
    "    print('Classification report:\\n{}\\n\\n\\n'.format(report[model]))"
   ]
  },
  {
   "cell_type": "code",
   "execution_count": 25,
   "metadata": {},
   "outputs": [
    {
     "name": "stdout",
     "output_type": "stream",
     "text": [
      "SVM predictions:\n",
      "Quality:[5 6 4 6 5 5 6 5 6]\n",
      "\n",
      "DT predictions:\n",
      "Quality:[6 7 5 6 6 5 6 5 6]\n",
      "\n",
      "RF predictions:\n",
      "Quality:[5 6 5 6 5 5 6 5 6]\n",
      "\n"
     ]
    }
   ],
   "source": [
    "#Generate 10 random instances and predict with each method\n",
    "from random import gauss as norm\n",
    "from statistics import mean\n",
    "from statistics import stdev\n",
    "\n",
    "len_x = len(x[1,:])\n",
    "rand_x = []\n",
    "\n",
    "for j in range(0,9):\n",
    "    rand_row = []\n",
    "    for i in range(0,len_x):\n",
    "        med_x = mean(x[:,i])\n",
    "        dev_x = stdev(x[:,i])\n",
    "        rand_row.append(norm(med_x,dev_x))\n",
    "    rand_x.append(rand_row)\n",
    "\n",
    "#predictions\n",
    "for model in models:\n",
    "    rand_predict = model.predict(rand_x,)\n",
    "    print('{} predictions:\\nQuality:{}\\n'.format(name[model],rand_predict))"
   ]
  },
  {
   "cell_type": "code",
   "execution_count": null,
   "metadata": {},
   "outputs": [],
   "source": []
  }
 ],
 "metadata": {
  "kernelspec": {
   "display_name": "Python 3",
   "language": "python",
   "name": "python3"
  },
  "language_info": {
   "codemirror_mode": {
    "name": "ipython",
    "version": 3
   },
   "file_extension": ".py",
   "mimetype": "text/x-python",
   "name": "python",
   "nbconvert_exporter": "python",
   "pygments_lexer": "ipython3",
   "version": "3.7.4"
  }
 },
 "nbformat": 4,
 "nbformat_minor": 2
}
