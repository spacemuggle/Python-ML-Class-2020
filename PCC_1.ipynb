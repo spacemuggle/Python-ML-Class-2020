{
 "cells": [
  {
   "cell_type": "code",
   "execution_count": 1,
   "metadata": {},
   "outputs": [],
   "source": [
    "import numpy as np"
   ]
  },
  {
   "cell_type": "code",
   "execution_count": 3,
   "metadata": {},
   "outputs": [
    {
     "name": "stdout",
     "output_type": "stream",
     "text": [
      "Please enter a positive integer.\n",
      "\t1\n",
      "Please enter another positive integer.\n",
      "\t5\n",
      "\n",
      "x is 1, and y is 5\n",
      "\n",
      "[[   1.      6.      4.      5.      5.      5.      0.  ]\n",
      " [   2.      7.      3.     10.      2.5    25.      1.  ]\n",
      " [   3.      8.      2.     15.      1.67  125.      2.  ]\n",
      " [   4.      9.      1.     20.      1.25  625.      1.  ]\n",
      " [   5.     10.      0.     25.      1.   3125.      0.  ]]\n",
      "Would you like to play again?\n",
      "Enter (y/n)n\n"
     ]
    }
   ],
   "source": [
    "play = True\n",
    "\n",
    "#makes output pretty and readable\n",
    "np.set_printoptions(suppress=True)\n",
    "\n",
    "while play:\n",
    "    in1 = input('Please enter a positive integer.\\n\\t')\n",
    "    in2 = input('Please enter another positive integer.\\n\\t')\n",
    "\n",
    "    if in1 < in2:\n",
    "        x = int(in1)\n",
    "        y = int(in2)\n",
    "    else:\n",
    "        y = int(in1)\n",
    "        x = int(in2)\n",
    "\n",
    "    print ('\\nx is {}, and y is {}\\n'.format(x,y))\n",
    "\n",
    "    rows = y - x + 1\n",
    "\n",
    "    xy_matrix = np.zeros((rows,7),float)\n",
    "    for j in range (7):\n",
    "        if j == 0:\n",
    "            for i in range (rows):\n",
    "                xy_matrix[i, j] = round(x + i, 2)\n",
    "        elif j == 1:\n",
    "            for i in range (rows):\n",
    "                xy_matrix[i, j] = round(y + (x + i), 2)\n",
    "        elif j == 2:\n",
    "            for i in range (rows):\n",
    "                xy_matrix[i, j] = round(y - (x + i), 2)\n",
    "        elif j == 3:\n",
    "            for i in range (rows):\n",
    "                xy_matrix[i, j] = round(y * (x + i), 2)\n",
    "        elif j == 4:\n",
    "            for i in range (rows):\n",
    "                xy_matrix[i, j] = round(y / (x + i), 2)\n",
    "        elif j == 5:\n",
    "            for i in range (rows):\n",
    "                xy_matrix[i, j] = round(y ** (x + i), 2)\n",
    "        elif j == 6:\n",
    "            for i in range (rows):\n",
    "                xy_matrix[i, j] = round(y % (x + i), 2)\n",
    "\n",
    "    print(xy_matrix)\n",
    "    \n",
    "    again = input('Would you like to play again?\\nEnter (y/n)')\n",
    "    \n",
    "    if again.lower() == 'n':\n",
    "        play = False"
   ]
  },
  {
   "cell_type": "code",
   "execution_count": null,
   "metadata": {},
   "outputs": [],
   "source": []
  }
 ],
 "metadata": {
  "kernelspec": {
   "display_name": "Python 3",
   "language": "python",
   "name": "python3"
  },
  "language_info": {
   "codemirror_mode": {
    "name": "ipython",
    "version": 3
   },
   "file_extension": ".py",
   "mimetype": "text/x-python",
   "name": "python",
   "nbconvert_exporter": "python",
   "pygments_lexer": "ipython3",
   "version": "3.7.4"
  }
 },
 "nbformat": 4,
 "nbformat_minor": 2
}
