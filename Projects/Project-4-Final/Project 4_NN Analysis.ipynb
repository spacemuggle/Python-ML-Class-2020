{
 "cells": [
  {
   "cell_type": "code",
   "execution_count": 1,
   "metadata": {},
   "outputs": [],
   "source": [
    "import numpy as np\n",
    "import pandas as pd\n",
    "import matplotlib.pyplot as plt\n",
    "import tensorflow as tf\n",
    "from tensorflow import keras"
   ]
  },
  {
   "cell_type": "code",
   "execution_count": 2,
   "metadata": {},
   "outputs": [],
   "source": [
    "#Pull in X, Y data\n",
    "x = pd.read_csv('PreprocX.csv', header=None)\n",
    "#x.drop('Unnamed: 0', axis=1, inplace=True)\n",
    "\n",
    "y = pd.read_csv('PreprocY.csv', header=None)\n",
    "y.drop(0, axis=1, inplace=True)\n",
    "\n",
    "x_mini = pd.read_csv('PreprocXmini.csv', header=None)\n",
    "#x_mini.drop('Unnamed: 0', axis=1, inplace=True)\n",
    "\n",
    "y_mini = pd.read_csv('PreprocYmini.csv', header=None)\n",
    "y_mini.drop(0, axis=1, inplace=True)"
   ]
  },
  {
   "cell_type": "code",
   "execution_count": 3,
   "metadata": {},
   "outputs": [
    {
     "name": "stdout",
     "output_type": "stream",
     "text": [
      "DF:    |  Shape:\n",
      "x      | (60448, 37)\n",
      "y      | (60448, 1)\n",
      "x_mini | (6045, 37)\n",
      "y_mini | (6045, 1)\n"
     ]
    }
   ],
   "source": [
    "#Check shapes\n",
    "xshape = x.shape\n",
    "yshape = y.shape\n",
    "xmshape = x_mini.shape\n",
    "ymshape = y_mini.shape\n",
    "print('DF:    |  Shape:\\nx      | {}\\ny      | {}\\nx_mini | {}\\ny_mini | {}'.format(xshape,yshape,xmshape,ymshape))"
   ]
  },
  {
   "cell_type": "code",
   "execution_count": 4,
   "metadata": {},
   "outputs": [],
   "source": [
    "#Convert y and y_mini into integer categories\n",
    "replc = ['on-time', '1-7dayL', '7-30dayL', '30-90dayL', '>90dayL']\n",
    "labels = list(range(0,len(replc)))\n",
    "\n",
    "y_mini.replace(replc, labels, inplace=True)\n",
    "y.replace(replc, labels, inplace=True)"
   ]
  },
  {
   "cell_type": "code",
   "execution_count": 5,
   "metadata": {},
   "outputs": [],
   "source": [
    "#Make all data into arrays\n",
    "x = np.array(x)\n",
    "y = np.array(y)\n",
    "x_mini = np.array(x_mini)\n",
    "y_mini = np.array(y_mini)"
   ]
  },
  {
   "cell_type": "code",
   "execution_count": 6,
   "metadata": {},
   "outputs": [],
   "source": [
    "#Setting up the NN\n",
    "from tensorflow.keras.layers import Dense, Activation, GaussianNoise\n",
    "\n",
    "#initiate the mini model\n",
    "######################################################\n",
    "mini_model = keras.Sequential()\n",
    "\n",
    "#Add layers\n",
    "mini_model.add(Dense(128, input_shape=(37,), activation='relu'))\n",
    "\n",
    "mini_model.add(Dense(256, activation='relu'))\n",
    "\n",
    "mini_model.add(GaussianNoise(stddev=0.025))\n",
    "\n",
    "mini_model.add(Dense(256, activation='relu'))\n",
    "\n",
    "mini_model.add(Dense(128, activation='relu'))\n",
    "\n",
    "mini_model.add(Dense(5, activation='softmax'))\n",
    "\n",
    "#initiate the full model\n",
    "#####################################################\n",
    "full_model = keras.Sequential()\n",
    "\n",
    "#Add layers\n",
    "full_model.add(Dense(128, input_shape=(37,), activation='relu'))\n",
    "\n",
    "full_model.add(Dense(256, activation='relu'))\n",
    "\n",
    "full_model.add(GaussianNoise(stddev=0.025))\n",
    "\n",
    "full_model.add(Dense(256, activation='relu'))\n",
    "\n",
    "full_model.add(Dense(128, activation='relu'))\n",
    "\n",
    "full_model.add(Dense(5, activation='softmax'))"
   ]
  },
  {
   "cell_type": "code",
   "execution_count": 7,
   "metadata": {},
   "outputs": [],
   "source": [
    "#Create early stop callback\n",
    "from tensorflow.keras.callbacks import EarlyStopping\n",
    "\n",
    "stop_on_val_loss = EarlyStopping(\n",
    "    monitor='val_loss', \n",
    "    min_delta=0.0001, patience=5)"
   ]
  },
  {
   "cell_type": "code",
   "execution_count": 8,
   "metadata": {},
   "outputs": [],
   "source": [
    "#Callback to store epoch data for graphing\n",
    "from tensorflow.keras.callbacks import CSVLogger\n",
    "\n",
    "full_file_name = 'SupplyNNf_log.csv'\n",
    "mini_file_name = 'SupplyNNm_log.csv'\n",
    "full_csv_logger = CSVLogger(filename=full_file_name, separator=',', append=False)\n",
    "mini_csv_logger = CSVLogger(filename=mini_file_name, separator=',', append=False)"
   ]
  },
  {
   "cell_type": "code",
   "execution_count": 9,
   "metadata": {},
   "outputs": [],
   "source": [
    "# #Save best model with estimator\n",
    "# from tensorflow.estimator import BestExporter\n",
    "# from tensorflow.estimator import compare_fn\n",
    "\n",
    "# #folder = 'C:/Users/James Sloan/Documents/School/IE 4910 Python ML/Assignments/Project 3 Neural Networks/project 3 final'\n",
    "# SaveBest = BestExporter(name='bestNN', compare_fn=val_loss_smaller)"
   ]
  },
  {
   "cell_type": "code",
   "execution_count": 10,
   "metadata": {},
   "outputs": [],
   "source": [
    "#Define loss function\n",
    "loss_fn = tf.keras.losses.SparseCategoricalCrossentropy(from_logits=True)"
   ]
  },
  {
   "cell_type": "code",
   "execution_count": 25,
   "metadata": {},
   "outputs": [],
   "source": [
    "#compile models\n",
    "mini_model.compile(optimizer='adam',\n",
    "              loss=loss_fn,\n",
    "              metrics=['accuracy'])\n",
    "\n",
    "full_model.compile(optimizer='adam',\n",
    "                  loss = loss_fn,\n",
    "                  metrics=['accuracy'])"
   ]
  },
  {
   "cell_type": "code",
   "execution_count": 26,
   "metadata": {},
   "outputs": [
    {
     "name": "stdout",
     "output_type": "stream",
     "text": [
      "Train on 5440 samples, validate on 605 samples\n",
      "Epoch 1/256\n",
      "5440/5440 [==============================] - 0s 74us/sample - loss: 1.0481 - accuracy: 0.8568 - val_loss: 1.0559 - val_accuracy: 0.8512\n",
      "Epoch 2/256\n",
      "5440/5440 [==============================] - 0s 23us/sample - loss: 1.0433 - accuracy: 0.8621 - val_loss: 1.0597 - val_accuracy: 0.8446\n",
      "Epoch 3/256\n",
      "5440/5440 [==============================] - 0s 21us/sample - loss: 1.0519 - accuracy: 0.8517 - val_loss: 1.0620 - val_accuracy: 0.8446\n",
      "Epoch 4/256\n",
      "5440/5440 [==============================] - 0s 21us/sample - loss: 1.0602 - accuracy: 0.8454 - val_loss: 1.0778 - val_accuracy: 0.8281\n",
      "Epoch 5/256\n",
      "5440/5440 [==============================] - 0s 20us/sample - loss: 1.0501 - accuracy: 0.8540 - val_loss: 1.0606 - val_accuracy: 0.8430\n",
      "Epoch 6/256\n",
      "5440/5440 [==============================] - 0s 23us/sample - loss: 1.0461 - accuracy: 0.8579 - val_loss: 1.0578 - val_accuracy: 0.8446\n"
     ]
    },
    {
     "data": {
      "text/plain": [
       "<tensorflow.python.keras.callbacks.History at 0x1dbd8ba10c8>"
      ]
     },
     "execution_count": 26,
     "metadata": {},
     "output_type": "execute_result"
    }
   ],
   "source": [
    "#Train the mini model\n",
    "mini_model.fit(x_mini, y_mini, batch_size=128, epochs = 256,\n",
    "         validation_split=0.10, callbacks=[mini_csv_logger, stop_on_val_loss])"
   ]
  },
  {
   "cell_type": "code",
   "execution_count": 27,
   "metadata": {
    "scrolled": true
   },
   "outputs": [
    {
     "name": "stdout",
     "output_type": "stream",
     "text": [
      "Train on 54403 samples, validate on 6045 samples\n",
      "Epoch 1/256\n",
      "54403/54403 [==============================] - 1s 16us/sample - loss: 1.0891 - accuracy: 0.8137 - val_loss: 1.0705 - val_accuracy: 0.8342\n",
      "Epoch 2/256\n",
      "54403/54403 [==============================] - 1s 10us/sample - loss: 1.0896 - accuracy: 0.8134 - val_loss: 1.0753 - val_accuracy: 0.8258\n",
      "Epoch 3/256\n",
      "54403/54403 [==============================] - 1s 11us/sample - loss: 1.0882 - accuracy: 0.8144 - val_loss: 1.0692 - val_accuracy: 0.8329\n",
      "Epoch 4/256\n",
      "54403/54403 [==============================] - 1s 12us/sample - loss: 1.0878 - accuracy: 0.8145 - val_loss: 1.0795 - val_accuracy: 0.8245\n",
      "Epoch 5/256\n",
      "54403/54403 [==============================] - 1s 11us/sample - loss: 1.0884 - accuracy: 0.8143 - val_loss: 1.0970 - val_accuracy: 0.8200\n",
      "Epoch 6/256\n",
      "54403/54403 [==============================] - 1s 12us/sample - loss: 1.0898 - accuracy: 0.8128 - val_loss: 1.0788 - val_accuracy: 0.8208\n",
      "Epoch 7/256\n",
      "54403/54403 [==============================] - 1s 13us/sample - loss: 1.0880 - accuracy: 0.8143 - val_loss: 1.0773 - val_accuracy: 0.8255\n",
      "Epoch 8/256\n",
      "54403/54403 [==============================] - 1s 11us/sample - loss: 1.0882 - accuracy: 0.8142 - val_loss: 1.0784 - val_accuracy: 0.8265\n"
     ]
    },
    {
     "data": {
      "text/plain": [
       "<tensorflow.python.keras.callbacks.History at 0x1dbd87fe588>"
      ]
     },
     "execution_count": 27,
     "metadata": {},
     "output_type": "execute_result"
    }
   ],
   "source": [
    "#train the full model\n",
    "full_model.fit(x, y, batch_size=512, epochs = 256,\n",
    "         validation_split=0.10, callbacks=[full_csv_logger, stop_on_val_loss])"
   ]
  },
  {
   "cell_type": "code",
   "execution_count": 14,
   "metadata": {},
   "outputs": [],
   "source": [
    "def PlotTrainingData(path, file_name):\n",
    "    import os\n",
    "    path, file_name = path, file_name\n",
    "    path = os.path.join(path,file_name)\n",
    "    epoch_data = pd.read_csv(path)\n",
    "    epoch_data.drop(columns=['epoch'],inplace=True)\n",
    "    display(epoch_data)\n",
    "    plt.figure(figsize=(10,7))\n",
    "    plt.tight_layout()\n",
    "    #Plot accuracy and val_accuracy\n",
    "    plt.subplot(2,2,1)\n",
    "    acc_data = epoch_data[['accuracy','val_accuracy']]\n",
    "    plt.xlabel('epoch')\n",
    "    plt.ylabel('accuracy')\n",
    "    plt.title('Model Accuracy')\n",
    "    plt.plot(acc_data)\n",
    "    plt.legend(['train','test'])\n",
    "    #Plot loss and val_loss\n",
    "    plt.subplot(2,2,2)\n",
    "    loss_data = epoch_data[['loss','val_loss']]\n",
    "    plt.xlabel('epoch')\n",
    "    plt.ylabel('loss')\n",
    "    plt.title('Model Loss')\n",
    "    plt.plot(loss_data)\n",
    "    plt.legend(['train','test'])\n",
    "    #Print max val_acc and min val_loss\n",
    "    max_acc = epoch_data['val_accuracy'].max()\n",
    "    min_loss = epoch_data['val_loss'].min()\n",
    "    print('Max validation accuracy: {}\\nMin validation loss: {}'.format(max_acc,min_loss))"
   ]
  },
  {
   "cell_type": "code",
   "execution_count": 15,
   "metadata": {
    "scrolled": false
   },
   "outputs": [
    {
     "data": {
      "text/html": [
       "<div>\n",
       "<style scoped>\n",
       "    .dataframe tbody tr th:only-of-type {\n",
       "        vertical-align: middle;\n",
       "    }\n",
       "\n",
       "    .dataframe tbody tr th {\n",
       "        vertical-align: top;\n",
       "    }\n",
       "\n",
       "    .dataframe thead th {\n",
       "        text-align: right;\n",
       "    }\n",
       "</style>\n",
       "<table border=\"1\" class=\"dataframe\">\n",
       "  <thead>\n",
       "    <tr style=\"text-align: right;\">\n",
       "      <th></th>\n",
       "      <th>accuracy</th>\n",
       "      <th>loss</th>\n",
       "      <th>val_accuracy</th>\n",
       "      <th>val_loss</th>\n",
       "    </tr>\n",
       "  </thead>\n",
       "  <tbody>\n",
       "    <tr>\n",
       "      <td>0</td>\n",
       "      <td>0.643199</td>\n",
       "      <td>1.270290</td>\n",
       "      <td>0.667769</td>\n",
       "      <td>1.232983</td>\n",
       "    </tr>\n",
       "    <tr>\n",
       "      <td>1</td>\n",
       "      <td>0.711397</td>\n",
       "      <td>1.191298</td>\n",
       "      <td>0.672727</td>\n",
       "      <td>1.231025</td>\n",
       "    </tr>\n",
       "    <tr>\n",
       "      <td>2</td>\n",
       "      <td>0.714154</td>\n",
       "      <td>1.188520</td>\n",
       "      <td>0.672727</td>\n",
       "      <td>1.229459</td>\n",
       "    </tr>\n",
       "    <tr>\n",
       "      <td>3</td>\n",
       "      <td>0.714338</td>\n",
       "      <td>1.188115</td>\n",
       "      <td>0.674380</td>\n",
       "      <td>1.229238</td>\n",
       "    </tr>\n",
       "    <tr>\n",
       "      <td>4</td>\n",
       "      <td>0.726103</td>\n",
       "      <td>1.178240</td>\n",
       "      <td>0.733884</td>\n",
       "      <td>1.165909</td>\n",
       "    </tr>\n",
       "    <tr>\n",
       "      <td>5</td>\n",
       "      <td>0.816912</td>\n",
       "      <td>1.093276</td>\n",
       "      <td>0.834711</td>\n",
       "      <td>1.077990</td>\n",
       "    </tr>\n",
       "    <tr>\n",
       "      <td>6</td>\n",
       "      <td>0.832904</td>\n",
       "      <td>1.073898</td>\n",
       "      <td>0.809917</td>\n",
       "      <td>1.088654</td>\n",
       "    </tr>\n",
       "    <tr>\n",
       "      <td>7</td>\n",
       "      <td>0.831801</td>\n",
       "      <td>1.071553</td>\n",
       "      <td>0.814876</td>\n",
       "      <td>1.088347</td>\n",
       "    </tr>\n",
       "    <tr>\n",
       "      <td>8</td>\n",
       "      <td>0.845221</td>\n",
       "      <td>1.060102</td>\n",
       "      <td>0.828099</td>\n",
       "      <td>1.078465</td>\n",
       "    </tr>\n",
       "    <tr>\n",
       "      <td>9</td>\n",
       "      <td>0.846691</td>\n",
       "      <td>1.058763</td>\n",
       "      <td>0.834711</td>\n",
       "      <td>1.074820</td>\n",
       "    </tr>\n",
       "    <tr>\n",
       "      <td>10</td>\n",
       "      <td>0.851838</td>\n",
       "      <td>1.053657</td>\n",
       "      <td>0.806612</td>\n",
       "      <td>1.087627</td>\n",
       "    </tr>\n",
       "    <tr>\n",
       "      <td>11</td>\n",
       "      <td>0.837316</td>\n",
       "      <td>1.065816</td>\n",
       "      <td>0.842975</td>\n",
       "      <td>1.064026</td>\n",
       "    </tr>\n",
       "    <tr>\n",
       "      <td>12</td>\n",
       "      <td>0.850184</td>\n",
       "      <td>1.054037</td>\n",
       "      <td>0.824793</td>\n",
       "      <td>1.078856</td>\n",
       "    </tr>\n",
       "    <tr>\n",
       "      <td>13</td>\n",
       "      <td>0.847426</td>\n",
       "      <td>1.056920</td>\n",
       "      <td>0.841322</td>\n",
       "      <td>1.061461</td>\n",
       "    </tr>\n",
       "    <tr>\n",
       "      <td>14</td>\n",
       "      <td>0.851838</td>\n",
       "      <td>1.053212</td>\n",
       "      <td>0.829752</td>\n",
       "      <td>1.070496</td>\n",
       "    </tr>\n",
       "    <tr>\n",
       "      <td>15</td>\n",
       "      <td>0.854596</td>\n",
       "      <td>1.049680</td>\n",
       "      <td>0.833058</td>\n",
       "      <td>1.069011</td>\n",
       "    </tr>\n",
       "    <tr>\n",
       "      <td>16</td>\n",
       "      <td>0.853493</td>\n",
       "      <td>1.050244</td>\n",
       "      <td>0.838017</td>\n",
       "      <td>1.066546</td>\n",
       "    </tr>\n",
       "    <tr>\n",
       "      <td>17</td>\n",
       "      <td>0.849081</td>\n",
       "      <td>1.055483</td>\n",
       "      <td>0.856198</td>\n",
       "      <td>1.056125</td>\n",
       "    </tr>\n",
       "    <tr>\n",
       "      <td>18</td>\n",
       "      <td>0.852022</td>\n",
       "      <td>1.051961</td>\n",
       "      <td>0.847934</td>\n",
       "      <td>1.055355</td>\n",
       "    </tr>\n",
       "    <tr>\n",
       "      <td>19</td>\n",
       "      <td>0.851103</td>\n",
       "      <td>1.053606</td>\n",
       "      <td>0.836364</td>\n",
       "      <td>1.067586</td>\n",
       "    </tr>\n",
       "    <tr>\n",
       "      <td>20</td>\n",
       "      <td>0.851471</td>\n",
       "      <td>1.052999</td>\n",
       "      <td>0.854545</td>\n",
       "      <td>1.050273</td>\n",
       "    </tr>\n",
       "    <tr>\n",
       "      <td>21</td>\n",
       "      <td>0.858272</td>\n",
       "      <td>1.046386</td>\n",
       "      <td>0.834711</td>\n",
       "      <td>1.067277</td>\n",
       "    </tr>\n",
       "    <tr>\n",
       "      <td>22</td>\n",
       "      <td>0.851838</td>\n",
       "      <td>1.052340</td>\n",
       "      <td>0.833058</td>\n",
       "      <td>1.069262</td>\n",
       "    </tr>\n",
       "    <tr>\n",
       "      <td>23</td>\n",
       "      <td>0.858456</td>\n",
       "      <td>1.045665</td>\n",
       "      <td>0.847934</td>\n",
       "      <td>1.055769</td>\n",
       "    </tr>\n",
       "    <tr>\n",
       "      <td>24</td>\n",
       "      <td>0.854228</td>\n",
       "      <td>1.049615</td>\n",
       "      <td>0.854545</td>\n",
       "      <td>1.052481</td>\n",
       "    </tr>\n",
       "    <tr>\n",
       "      <td>25</td>\n",
       "      <td>0.854596</td>\n",
       "      <td>1.049974</td>\n",
       "      <td>0.834711</td>\n",
       "      <td>1.070249</td>\n",
       "    </tr>\n",
       "  </tbody>\n",
       "</table>\n",
       "</div>"
      ],
      "text/plain": [
       "    accuracy      loss  val_accuracy  val_loss\n",
       "0   0.643199  1.270290      0.667769  1.232983\n",
       "1   0.711397  1.191298      0.672727  1.231025\n",
       "2   0.714154  1.188520      0.672727  1.229459\n",
       "3   0.714338  1.188115      0.674380  1.229238\n",
       "4   0.726103  1.178240      0.733884  1.165909\n",
       "5   0.816912  1.093276      0.834711  1.077990\n",
       "6   0.832904  1.073898      0.809917  1.088654\n",
       "7   0.831801  1.071553      0.814876  1.088347\n",
       "8   0.845221  1.060102      0.828099  1.078465\n",
       "9   0.846691  1.058763      0.834711  1.074820\n",
       "10  0.851838  1.053657      0.806612  1.087627\n",
       "11  0.837316  1.065816      0.842975  1.064026\n",
       "12  0.850184  1.054037      0.824793  1.078856\n",
       "13  0.847426  1.056920      0.841322  1.061461\n",
       "14  0.851838  1.053212      0.829752  1.070496\n",
       "15  0.854596  1.049680      0.833058  1.069011\n",
       "16  0.853493  1.050244      0.838017  1.066546\n",
       "17  0.849081  1.055483      0.856198  1.056125\n",
       "18  0.852022  1.051961      0.847934  1.055355\n",
       "19  0.851103  1.053606      0.836364  1.067586\n",
       "20  0.851471  1.052999      0.854545  1.050273\n",
       "21  0.858272  1.046386      0.834711  1.067277\n",
       "22  0.851838  1.052340      0.833058  1.069262\n",
       "23  0.858456  1.045665      0.847934  1.055769\n",
       "24  0.854228  1.049615      0.854545  1.052481\n",
       "25  0.854596  1.049974      0.834711  1.070249"
      ]
     },
     "metadata": {},
     "output_type": "display_data"
    },
    {
     "name": "stdout",
     "output_type": "stream",
     "text": [
      "Max validation accuracy: 0.8561984\n",
      "Min validation loss: 1.0502729039546872\n"
     ]
    },
    {
     "data": {
      "text/html": [
       "<div>\n",
       "<style scoped>\n",
       "    .dataframe tbody tr th:only-of-type {\n",
       "        vertical-align: middle;\n",
       "    }\n",
       "\n",
       "    .dataframe tbody tr th {\n",
       "        vertical-align: top;\n",
       "    }\n",
       "\n",
       "    .dataframe thead th {\n",
       "        text-align: right;\n",
       "    }\n",
       "</style>\n",
       "<table border=\"1\" class=\"dataframe\">\n",
       "  <thead>\n",
       "    <tr style=\"text-align: right;\">\n",
       "      <th></th>\n",
       "      <th>accuracy</th>\n",
       "      <th>loss</th>\n",
       "      <th>val_accuracy</th>\n",
       "      <th>val_loss</th>\n",
       "    </tr>\n",
       "  </thead>\n",
       "  <tbody>\n",
       "    <tr>\n",
       "      <td>0</td>\n",
       "      <td>0.701505</td>\n",
       "      <td>1.209585</td>\n",
       "      <td>0.547560</td>\n",
       "      <td>1.350670</td>\n",
       "    </tr>\n",
       "    <tr>\n",
       "      <td>1</td>\n",
       "      <td>0.729243</td>\n",
       "      <td>1.173435</td>\n",
       "      <td>0.547560</td>\n",
       "      <td>1.349762</td>\n",
       "    </tr>\n",
       "    <tr>\n",
       "      <td>2</td>\n",
       "      <td>0.756300</td>\n",
       "      <td>1.148081</td>\n",
       "      <td>0.775848</td>\n",
       "      <td>1.113751</td>\n",
       "    </tr>\n",
       "    <tr>\n",
       "      <td>3</td>\n",
       "      <td>0.807400</td>\n",
       "      <td>1.096210</td>\n",
       "      <td>0.817701</td>\n",
       "      <td>1.104769</td>\n",
       "    </tr>\n",
       "    <tr>\n",
       "      <td>4</td>\n",
       "      <td>0.809588</td>\n",
       "      <td>1.093659</td>\n",
       "      <td>0.828122</td>\n",
       "      <td>1.074322</td>\n",
       "    </tr>\n",
       "    <tr>\n",
       "      <td>5</td>\n",
       "      <td>0.811573</td>\n",
       "      <td>1.091744</td>\n",
       "      <td>0.828453</td>\n",
       "      <td>1.074865</td>\n",
       "    </tr>\n",
       "    <tr>\n",
       "      <td>6</td>\n",
       "      <td>0.812216</td>\n",
       "      <td>1.091145</td>\n",
       "      <td>0.747064</td>\n",
       "      <td>1.126597</td>\n",
       "    </tr>\n",
       "    <tr>\n",
       "      <td>7</td>\n",
       "      <td>0.813668</td>\n",
       "      <td>1.089676</td>\n",
       "      <td>0.815054</td>\n",
       "      <td>1.106356</td>\n",
       "    </tr>\n",
       "    <tr>\n",
       "      <td>8</td>\n",
       "      <td>0.813062</td>\n",
       "      <td>1.090075</td>\n",
       "      <td>0.790902</td>\n",
       "      <td>1.109974</td>\n",
       "    </tr>\n",
       "    <tr>\n",
       "      <td>9</td>\n",
       "      <td>0.813613</td>\n",
       "      <td>1.089404</td>\n",
       "      <td>0.775352</td>\n",
       "      <td>1.107811</td>\n",
       "    </tr>\n",
       "  </tbody>\n",
       "</table>\n",
       "</div>"
      ],
      "text/plain": [
       "   accuracy      loss  val_accuracy  val_loss\n",
       "0  0.701505  1.209585      0.547560  1.350670\n",
       "1  0.729243  1.173435      0.547560  1.349762\n",
       "2  0.756300  1.148081      0.775848  1.113751\n",
       "3  0.807400  1.096210      0.817701  1.104769\n",
       "4  0.809588  1.093659      0.828122  1.074322\n",
       "5  0.811573  1.091744      0.828453  1.074865\n",
       "6  0.812216  1.091145      0.747064  1.126597\n",
       "7  0.813668  1.089676      0.815054  1.106356\n",
       "8  0.813062  1.090075      0.790902  1.109974\n",
       "9  0.813613  1.089404      0.775352  1.107811"
      ]
     },
     "metadata": {},
     "output_type": "display_data"
    },
    {
     "name": "stdout",
     "output_type": "stream",
     "text": [
      "Max validation accuracy: 0.82845324\n",
      "Min validation loss: 1.0743219403021589\n"
     ]
    },
    {
     "data": {
      "image/png": "[encoded data removed]",
      "text/plain": [
       "<Figure size 720x504 with 2 Axes>"
      ]
     },
     "metadata": {
      "needs_background": "light"
     },
     "output_type": "display_data"
    },
    {
     "data": {
      "image/png": "[encoded data removed]",
      "text/plain": [
       "<Figure size 720x504 with 2 Axes>"
      ]
     },
     "metadata": {
      "needs_background": "light"
     },
     "output_type": "display_data"
    }
   ],
   "source": [
    "#Plot accuracy and loss\n",
    "path = 'C:/Users/James Sloan/Documents/School/IE 4910 Python ML/Assignments/Project 4_Real World Data'\n",
    "\n",
    "PlotTrainingData(path=path, file_name=mini_file_name)\n",
    "PlotTrainingData(path=path, file_name=full_file_name)\n"
   ]
  },
  {
   "cell_type": "code",
   "execution_count": 16,
   "metadata": {},
   "outputs": [],
   "source": [
    "#Make Predictions on full test set\n",
    "full_pred = full_model.predict(x)\n",
    "mini_pred = mini_model.predict(x)"
   ]
  },
  {
   "cell_type": "code",
   "execution_count": 17,
   "metadata": {},
   "outputs": [],
   "source": [
    "#Function to convert probability array into 1D prediction array\n",
    "def Probs2Preds(labels, prob_array):\n",
    "    preds = []\n",
    "    for list in prob_array:\n",
    "        position = 0\n",
    "        max_prob = 0\n",
    "        for prob in list:\n",
    "            if prob > max_prob:\n",
    "                max_prob = prob\n",
    "                max_label = labels[position]\n",
    "            position = position + 1\n",
    "        preds.append(max_label)\n",
    "    preds = np.array(preds)\n",
    "    return(preds)"
   ]
  },
  {
   "cell_type": "code",
   "execution_count": 18,
   "metadata": {},
   "outputs": [],
   "source": [
    "full_pred_labels = Probs2Preds(labels=labels, prob_array=full_pred)\n",
    "mini_pred_labels = Probs2Preds(labels=labels, prob_array=mini_pred)"
   ]
  },
  {
   "cell_type": "code",
   "execution_count": 19,
   "metadata": {},
   "outputs": [],
   "source": [
    "#Make confusion matrices\n",
    "#Full model\n",
    "full_cmat = np.array(tf.math.confusion_matrix(labels=y, predictions=full_pred_labels))\n",
    "\n",
    "#Mini model\n",
    "mini_cmat = np.array(tf.math.confusion_matrix(labels=y, predictions=mini_pred_labels))"
   ]
  },
  {
   "cell_type": "code",
   "execution_count": 20,
   "metadata": {},
   "outputs": [],
   "source": [
    "def PrettyCmatrix(cmat, labels, title='Confusion Matrix', normalize=True):\n",
    "    import matplotlib.pyplot as plt\n",
    "    import numpy as np\n",
    "    \n",
    "    accuracy = np.trace(cmat)\n",
    "    misclass = 1 - accuracy\n",
    "    \n",
    "    plt.figure(figsize=(8,6))\n",
    "    cmap = plt.get_cmap('Blues')\n",
    "    plt.imshow(cmat, interpolation='nearest', cmap = cmap)\n",
    "    plt.title(title)\n",
    "    plt.colorbar()\n",
    "\n",
    "    tick_marks = np.arange(len(labels))\n",
    "    plt.xticks(tick_marks, labels, rotation=45)\n",
    "    plt.yticks(tick_marks, labels)\n",
    "    \n",
    "    if normalize:\n",
    "        cmat = cmat.astype('float') / cmat.sum(axis=1)[:, np.newaxis]\n",
    "        \n",
    "    plt.tight_layout()\n",
    "    plt.ylabel('True label')\n",
    "    plt.xlabel('Predicted label\\nacc% = {} : misclass% = {}'.format(accuracy,misclass))\n",
    "    plt.show()"
   ]
  },
  {
   "cell_type": "code",
   "execution_count": 21,
   "metadata": {},
   "outputs": [],
   "source": [
    "#Takes any square np.array and converts it to a confusion matrix\n",
    "def PlotCmatrix(cm, target_names, title='Confusion matrix', cmap=None, normalize=True):\n",
    "    import matplotlib.pyplot as plt\n",
    "    import numpy as np\n",
    "    import itertools\n",
    "\n",
    "    accuracy = np.trace(cm) / float(np.sum(cm))\n",
    "    misclass = 1 - accuracy\n",
    "\n",
    "    if cmap is None:\n",
    "        cmap = plt.get_cmap('Blues')\n",
    "\n",
    "    plt.figure(figsize=(10, 5))\n",
    "    plt.imshow(cm, interpolation='none', cmap=cmap)\n",
    "    plt.title(title)\n",
    "    plt.colorbar()\n",
    "\n",
    "    if target_names is not None:\n",
    "        tick_marks = np.arange(len(target_names))\n",
    "        plt.xticks(tick_marks, target_names, rotation=45)\n",
    "        plt.yticks(tick_marks, target_names)\n",
    "\n",
    "    if normalize:\n",
    "        cm = cm.astype('float') / cm.sum(axis=1)[:, np.newaxis]\n",
    "\n",
    "\n",
    "    thresh = cm.max() / 1.5 if normalize else cm.max() / 2\n",
    "    for i, j in itertools.product(range(cm.shape[0]), range(cm.shape[1])):\n",
    "        if normalize:\n",
    "            plt.text(j, i, \"{:0.4f}\".format(cm[i, j]),\n",
    "                     horizontalalignment=\"center\",\n",
    "                     color=\"white\" if cm[i, j] > thresh else \"black\")\n",
    "        else:\n",
    "            plt.text(j, i, \"{:,}\".format(cm[i, j]),\n",
    "                     horizontalalignment=\"center\",\n",
    "                     color=\"white\" if cm[i, j] > thresh else \"black\")\n",
    "\n",
    "\n",
    "    plt.tight_layout()\n",
    "    plt.ylabel('True label')\n",
    "    plt.xlabel('Predicted label\\naccuracy={:0.4f}; misclass={:0.4f}'.format(accuracy, misclass))\n",
    "    plt.show()\n"
   ]
  },
  {
   "cell_type": "code",
   "execution_count": 22,
   "metadata": {},
   "outputs": [
    {
     "data": {
      "image/png": "[encoded data removed]",
      "text/plain": [
       "<Figure size 720x360 with 2 Axes>"
      ]
     },
     "metadata": {
      "needs_background": "light"
     },
     "output_type": "display_data"
    },
    {
     "data": {
      "image/png": "[encoded data removed]",
      "text/plain": [
       "<Figure size 720x360 with 2 Axes>"
      ]
     },
     "metadata": {
      "needs_background": "light"
     },
     "output_type": "display_data"
    }
   ],
   "source": [
    "PlotCmatrix(cm=full_cmat, target_names=replc, title='full model confusion matrix')\n",
    "PlotCmatrix(cm=mini_cmat, target_names=replc, title='mini model confusion matrix')"
   ]
  },
  {
   "cell_type": "code",
   "execution_count": 23,
   "metadata": {},
   "outputs": [
    {
     "data": {
      "text/plain": [
       "'2.1.0'"
      ]
     },
     "execution_count": 23,
     "metadata": {},
     "output_type": "execute_result"
    }
   ],
   "source": [
    "tf.__version__"
   ]
  },
  {
   "cell_type": "code",
   "execution_count": 24,
   "metadata": {},
   "outputs": [],
   "source": [
    "#save models for later prediction\n",
    "models = [mini_model, full_model]\n",
    "names = ['NN_mini', 'NN_full']\n",
    "\n",
    "for i in range(len(models)):\n",
    "    models[i].save(names[i] + '.h5')"
   ]
  },
  {
   "cell_type": "code",
   "execution_count": null,
   "metadata": {},
   "outputs": [],
   "source": []
  },
  {
   "cell_type": "code",
   "execution_count": null,
   "metadata": {},
   "outputs": [],
   "source": []
  }
 ],
 "metadata": {
  "kernelspec": {
   "display_name": "Python 3",
   "language": "python",
   "name": "python3"
  },
  "language_info": {
   "codemirror_mode": {
    "name": "ipython",
    "version": 3
   },
   "file_extension": ".py",
   "mimetype": "text/x-python",
   "name": "python",
   "nbconvert_exporter": "python",
   "pygments_lexer": "ipython3",
   "version": "3.7.4"
  }
 },
 "nbformat": 4,
 "nbformat_minor": 2
}
