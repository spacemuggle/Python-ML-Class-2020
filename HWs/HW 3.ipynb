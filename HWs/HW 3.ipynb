{
 "cells": [
  {
   "cell_type": "markdown",
   "metadata": {},
   "source": [
    "HW3 is 5-7 - 5-13 & 6-7 - 6-11 due Mon 1/27"
   ]
  },
  {
   "cell_type": "code",
   "execution_count": 74,
   "metadata": {},
   "outputs": [
    {
     "name": "stdout",
     "output_type": "stream",
     "text": [
      "Apples are yum\n",
      "This fruit is orange.\n",
      "Pears come from a tree\n"
     ]
    }
   ],
   "source": [
    "#5-7 Favorite Fruit:\n",
    "favorite_fruits=['apple','orange','pear']\n",
    "\n",
    "if 'banana' in favorite_fruits:\n",
    "    print('Bananas are good.')\n",
    "if 'apple' in favorite_fruits:\n",
    "    print('Apples are yum')\n",
    "if 'orange' in favorite_fruits:\n",
    "    print('This fruit is orange.')\n",
    "if 'steak' in favorite_fruits:\n",
    "    print(\"I didn't know steak was a fruit?\")\n",
    "if 'pear' in favorite_fruits:\n",
    "    print('Pears come from a tree')\n"
   ]
  },
  {
   "cell_type": "code",
   "execution_count": 12,
   "metadata": {},
   "outputs": [
    {
     "name": "stdout",
     "output_type": "stream",
     "text": [
      "Hello admin, would you like to see a status report?\n",
      "Hello James, welcome back!\n",
      "Hello Bill, welcome back!\n",
      "Hello Bob, welcome back!\n",
      "Hello Jill, welcome back!\n"
     ]
    }
   ],
   "source": [
    "#5-8 Hello Admin:\n",
    "users = ['admin','james','bill','bob','jill']\n",
    "\n",
    "for user in users:\n",
    "    if user == 'admin':\n",
    "        print('Hello admin, would you like to see a status report?')\n",
    "    else:\n",
    "        print('Hello ' + user.title() + ', welcome back!')"
   ]
  },
  {
   "cell_type": "code",
   "execution_count": 16,
   "metadata": {},
   "outputs": [
    {
     "name": "stdout",
     "output_type": "stream",
     "text": [
      "We need to find some users!\n"
     ]
    }
   ],
   "source": [
    "#5-9 No Users:\n",
    "#users = ['admin','james','bill','bob','jill']\n",
    "users = []\n",
    "\n",
    "if users:\n",
    "    for user in users:\n",
    "        if user == 'admin':\n",
    "            print('Hello admin, would you like to see a status report?')\n",
    "        else:\n",
    "            print('Hello ' + user.title() + ', welcome back!')\n",
    "else:\n",
    "    print('We need to find some users!')"
   ]
  },
  {
   "cell_type": "code",
   "execution_count": 24,
   "metadata": {},
   "outputs": [
    {
     "name": "stdout",
     "output_type": "stream",
     "text": [
      "Bob has already been taken, please try another username.\n",
      "Admin has already been taken, please try another username.\n"
     ]
    }
   ],
   "source": [
    "#5-10 Checking Usernames:\n",
    "current_users = ['admin','james','bill','Bob','jill']\n",
    "new_users = ['molly','billy','bob','Admin','jack']\n",
    "\n",
    "i = 0\n",
    "for current in current_users:\n",
    "    current_users[i] = current.lower()\n",
    "    i = i+1\n",
    "for new in new_users:\n",
    "    if new.lower() in current_users:\n",
    "        print(new.title() + ' has already been taken, please try another username.')"
   ]
  },
  {
   "cell_type": "code",
   "execution_count": 29,
   "metadata": {},
   "outputs": [
    {
     "name": "stdout",
     "output_type": "stream",
     "text": [
      "1st\n",
      "2nd\n",
      "3rd\n",
      "4th\n",
      "5th\n",
      "6th\n",
      "7th\n",
      "8th\n",
      "9th\n"
     ]
    }
   ],
   "source": [
    "#5-11 Ordinal Numbers:\n",
    "nums = [1,2,3,4,5,6,7,8,9]\n",
    "\n",
    "for num in nums:\n",
    "    if num == 1:\n",
    "        print(str(num) + 'st')\n",
    "    elif num == 2:\n",
    "        print(str(num) + 'nd')\n",
    "    elif num == 3:\n",
    "        print(str(num) + 'rd')\n",
    "    else:\n",
    "        print(str(num) + 'th')"
   ]
  },
  {
   "cell_type": "code",
   "execution_count": null,
   "metadata": {},
   "outputs": [],
   "source": [
    "#5-12 Styling if statements:\n",
    "#I reviewed them."
   ]
  },
  {
   "cell_type": "code",
   "execution_count": null,
   "metadata": {},
   "outputs": [],
   "source": [
    "#5-13 Your ideas:\n",
    "#I want to write a program to run on a raspberry pi or other \n",
    "#mini computer that connects to a set of moisture probes, \n",
    "#pumps, and lights to automate a small garden."
   ]
  },
  {
   "cell_type": "code",
   "execution_count": 46,
   "metadata": {},
   "outputs": [
    {
     "name": "stdout",
     "output_type": "stream",
     "text": [
      "first_name: Bill\n",
      "last_name: Smith\n",
      "age: 69\n",
      "city: Toledo\n",
      "\n",
      "\n",
      "first_name: Molly\n",
      "last_name: Minnen\n",
      "age: 21\n",
      "city: Atlanta\n",
      "\n",
      "\n",
      "first_name: James\n",
      "last_name: Sloan\n",
      "age: 19\n",
      "city: Atlanta\n",
      "\n",
      "\n"
     ]
    }
   ],
   "source": [
    "#6-7\n",
    "bill = {\n",
    "    'first_name':'Bill','last_name':'Smith',\n",
    "    'age':69,'city':'Toledo'}\n",
    "\n",
    "#for k in bill.keys():\n",
    "#    print(k + ': ' + str(bill[k]))\n",
    "\n",
    "molly = {\n",
    "    'first_name':'Molly','last_name':'Minnen',\n",
    "    'age':21,'city':'Atlanta'}\n",
    "james = {\n",
    "    'first_name':'James','last_name':'Sloan',\n",
    "    'age':19,'city':'Atlanta'}\n",
    "\n",
    "people=[bill, molly, james]\n",
    "\n",
    "for p in people:\n",
    "    for k in p.keys():\n",
    "        print(k + ': ' + str(p[k]))\n",
    "    print('\\n')"
   ]
  },
  {
   "cell_type": "code",
   "execution_count": 49,
   "metadata": {},
   "outputs": [
    {
     "name": "stdout",
     "output_type": "stream",
     "text": [
      "breed: Mutt\n",
      "owner: Jill\n",
      "\n",
      "\n",
      "breed: Jack Russel\n",
      "owner: John\n",
      "\n",
      "\n",
      "breed: Mastif\n",
      "owner: Hulk Hogan\n",
      "\n",
      "\n"
     ]
    }
   ],
   "source": [
    "#6-8 Pets:\n",
    "fido = {'breed':'mutt','owner':'jill'}\n",
    "squiggy = {'breed':'jack russel','owner':'john'}\n",
    "jake = {'breed':'mastif','owner':'hulk hogan'}\n",
    "\n",
    "pets=[fido, squiggy, jake]\n",
    "\n",
    "for pet in pets:\n",
    "    for k in pet.keys():\n",
    "        print(k + ': ' + pet[k].title())\n",
    "    print('\\n')"
   ]
  },
  {
   "cell_type": "code",
   "execution_count": 54,
   "metadata": {},
   "outputs": [
    {
     "name": "stdout",
     "output_type": "stream",
     "text": [
      "\n",
      "John's favorite place(s) is/are: \n",
      "\tHawaii\n",
      "\tClemson\n",
      "\n",
      "Jack's favorite place(s) is/are: \n",
      "\tToledo\n",
      "\n",
      "Jill's favorite place(s) is/are: \n",
      "\tNiagra Falls\n",
      "\tThe Grand Canyon\n",
      "\tItaly\n",
      "\tKansas\n"
     ]
    }
   ],
   "source": [
    "#6-9 Favorite Places:\n",
    "favorite_places = {\n",
    "    'john': ['hawaii','clemson'],\n",
    "    'jack': ['toledo'],\n",
    "    'jill': ['niagra falls','the grand canyon','italy','kansas']}\n",
    "\n",
    "for person in favorite_places.keys():\n",
    "    print('\\n' + person.title() + \"'s favorite place(s) is/are: \")\n",
    "    for place in favorite_places[person]:\n",
    "        print('\\t' + place.title())\n"
   ]
  },
  {
   "cell_type": "code",
   "execution_count": 60,
   "metadata": {},
   "outputs": [
    {
     "name": "stdout",
     "output_type": "stream",
     "text": [
      "John's fav nums are: [27, 28, 29]\n",
      "Jack's fav nums are: [31, 1, 1000]\n",
      "Jill's fav nums are: [73, 92, 42]\n"
     ]
    }
   ],
   "source": [
    "#6-10 Favorite Numbers:\n",
    "fav_nums = {'john':[27,28,29],'jack':[31,1,1000],'jill':[73,92,42]}\n",
    "#print each name and num\n",
    "for person in fav_nums:\n",
    "    print(person.title() + \"'s fav nums are: \" + str(fav_nums[person]))"
   ]
  },
  {
   "cell_type": "code",
   "execution_count": 73,
   "metadata": {},
   "outputs": [
    {
     "name": "stdout",
     "output_type": "stream",
     "text": [
      "\n",
      "Atlanta:\n",
      "\tCountry: USA\n",
      "\tPopulation: 4000000\n",
      "\tFact: It's hot.\n",
      "\n",
      "New York:\n",
      "\tCountry: USA\n",
      "\tPopulation: 10000000\n",
      "\tFact: It is on an island.\n",
      "\n",
      "San Francisco:\n",
      "\tCountry: USA\n",
      "\tPopulation: 9000000\n",
      "\tFact: It is on the West coast.\n"
     ]
    }
   ],
   "source": [
    "#6-11 Cities:\n",
    "cities = {\n",
    "    'atlanta':{'country':'USA','population':'4000000','fact':\"It's hot.\"},\n",
    "    'new york':{'country':'USA','population':'10000000','fact':'It is on an island.'},\n",
    "    'san francisco':{'country':'USA','population':'9000000','fact':'It is on the West coast.'}}\n",
    "\n",
    "for city in cities:\n",
    "    print('\\n' + city.title() + ':')\n",
    "    for attribute, value in cities[city].items():\n",
    "        print('\\t' + attribute.title() + ': ' + str(value))"
   ]
  }
 ],
 "metadata": {
  "kernelspec": {
   "display_name": "Python 3",
   "language": "python",
   "name": "python3"
  },
  "language_info": {
   "codemirror_mode": {
    "name": "ipython",
    "version": 3
   },
   "file_extension": ".py",
   "mimetype": "text/x-python",
   "name": "python",
   "nbconvert_exporter": "python",
   "pygments_lexer": "ipython3",
   "version": "3.7.4"
  }
 },
 "nbformat": 4,
 "nbformat_minor": 2
}
