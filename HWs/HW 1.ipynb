{
 "cells": [
  {
   "cell_type": "markdown",
   "metadata": {},
   "source": [
    "2-4 Name Cases: \n",
    "Store a person's name in a variable, and then print that person's name in lowercase, uppercase, and titlecase."
   ]
  },
  {
   "cell_type": "code",
   "execution_count": 26,
   "metadata": {},
   "outputs": [
    {
     "name": "stdout",
     "output_type": "stream",
     "text": [
      "Choose a name: mOlLy\n",
      "molly\n",
      "MOLLY\n",
      "Molly\n"
     ]
    }
   ],
   "source": [
    "#2-4 Name Cases\n",
    "name=input('Choose a name: ')\n",
    "print(name.lower())\n",
    "print(name.upper())\n",
    "print(name.title())"
   ]
  },
  {
   "cell_type": "markdown",
   "metadata": {},
   "source": [
    "2-6 Famous Quotes 2: \n",
    "Find a quote from a famous person you admire. Store the famous person's name in a variable called famous_person. Then compose your message and store it in a new variable called message. Print your message. It should look something like:\n",
    "\n",
    "Famous Person once said, \"Super insightful quote.\""
   ]
  },
  {
   "cell_type": "code",
   "execution_count": 4,
   "metadata": {},
   "outputs": [
    {
     "name": "stdout",
     "output_type": "stream",
     "text": [
      "Carl Sagan once said, “The nitrogen in our DNA, the calcium in our teeth, the iron in our blood, the carbon in our apple pies were made in the interiors of collapsing stars. We are made of star stuff”\n"
     ]
    }
   ],
   "source": [
    "#2-6 Famous Quotes 2\n",
    "famous_person='Carl Sagan'\n",
    "message='“The nitrogen in our DNA, the calcium in our teeth, the iron in our blood, the carbon in our apple pies were made in the interiors of collapsing stars. We are made of star stuff”'\n",
    "print(famous_person + ' once said, ' + message)"
   ]
  },
  {
   "cell_type": "markdown",
   "metadata": {},
   "source": [
    "2-8 Number Eight: \n",
    "Write addition, subtraction, multiplication, and division operations that result in the number 8. Be sure to enclose your operations in print statements to see the results. You should create four lines that look like this:\n",
    "\n",
    "print(5+3)\n",
    "\n",
    "Your output should simply be four lines with the number 8 appearing once on each line.\n",
    "\n",
    "###I added using exponents for my own reference."
   ]
  },
  {
   "cell_type": "code",
   "execution_count": 27,
   "metadata": {},
   "outputs": [
    {
     "name": "stdout",
     "output_type": "stream",
     "text": [
      "8\n",
      "8\n",
      "8\n",
      "8\n",
      "8\n"
     ]
    }
   ],
   "source": [
    "#2-8 Number Eight\n",
    "print(4+4)  #add\n",
    "print(10-2) #subtract\n",
    "print(2*4)  #multiply\n",
    "print(int(24/3)) #divide\n",
    "print(2**3) #exponents"
   ]
  },
  {
   "cell_type": "markdown",
   "metadata": {},
   "source": [
    "2-9 Favorite Number: \n",
    "Store your favorite number in a variable. Then, using that variable, create a message that reveals your favorite number. Print that message."
   ]
  },
  {
   "cell_type": "code",
   "execution_count": 30,
   "metadata": {},
   "outputs": [
    {
     "name": "stdout",
     "output_type": "stream",
     "text": [
      "My favorite number is 42.\n"
     ]
    }
   ],
   "source": [
    "#2-9 Favorite Number\n",
    "favnum=42\n",
    "message='My favorite number is ' + str(favnum) + '.'\n",
    "print(message)"
   ]
  },
  {
   "cell_type": "markdown",
   "metadata": {},
   "source": [
    "2-11 Zen of Python: \n",
    "Enter 'import this' into the terminal session and skim. "
   ]
  },
  {
   "cell_type": "code",
   "execution_count": 31,
   "metadata": {},
   "outputs": [
    {
     "name": "stdout",
     "output_type": "stream",
     "text": [
      "The Zen of Python, by Tim Peters\n",
      "\n",
      "Beautiful is better than ugly.\n",
      "Explicit is better than implicit.\n",
      "Simple is better than complex.\n",
      "Complex is better than complicated.\n",
      "Flat is better than nested.\n",
      "Sparse is better than dense.\n",
      "Readability counts.\n",
      "Special cases aren't special enough to break the rules.\n",
      "Although practicality beats purity.\n",
      "Errors should never pass silently.\n",
      "Unless explicitly silenced.\n",
      "In the face of ambiguity, refuse the temptation to guess.\n",
      "There should be one-- and preferably only one --obvious way to do it.\n",
      "Although that way may not be obvious at first unless you're Dutch.\n",
      "Now is better than never.\n",
      "Although never is often better than *right* now.\n",
      "If the implementation is hard to explain, it's a bad idea.\n",
      "If the implementation is easy to explain, it may be a good idea.\n",
      "Namespaces are one honking great idea -- let's do more of those!\n"
     ]
    }
   ],
   "source": [
    "#2-11 Zen of Python\n",
    "import this"
   ]
  },
  {
   "cell_type": "markdown",
   "metadata": {},
   "source": [
    "3-3 Your own list: \n",
    "Think of your favorite mode of transportation, such as a motorcycle or a car, and make a list that stores several examples. Use your list to print a series of statements about these items, such as \"I would like to own a Honda motorcycle.\""
   ]
  },
  {
   "cell_type": "code",
   "execution_count": 60,
   "metadata": {},
   "outputs": [
    {
     "name": "stdout",
     "output_type": "stream",
     "text": [
      "An eBoard from boosted is an expensive toy, but a cheap commuter.\n",
      "An eBoard from evolve is an expensive toy, but a cheap commuter.\n",
      "An eBoard from ownboard is an expensive toy, but a cheap commuter.\n",
      "An eBoard from bustin is an expensive toy, but a cheap commuter.\n",
      "An eBoard from meepo is an expensive toy, but a cheap commuter.\n"
     ]
    }
   ],
   "source": [
    "#3-3 Your own list\n",
    "brands= ['boosted', 'evolve', 'ownboard', 'bustin', 'meepo']\n",
    "message1='An eBoard from '\n",
    "message2=' is an expensive toy, but a cheap commuter.'\n",
    "for brand in brands:\n",
    "    print(message1 + brand + message2)"
   ]
  },
  {
   "cell_type": "markdown",
   "metadata": {},
   "source": [
    "3-5 Changing Guest List:\n",
    "You just heard that one of your guests can’t make the dinner, so you need to send out a new set of invitations. You’ll have to think of someone else to invite.\n",
    "\n",
    "• Start with your program from Exercise 3-4. Add a print statement at the\n",
    "end of your program stating the name of the guest who can’t make it.\n",
    "• Modify your list, replacing the name of the guest who can’t make it with\n",
    "the name of the new person you are inviting.\n",
    "• Print a second set of invitation messages, one for each person who is still\n",
    "in your list."
   ]
  },
  {
   "cell_type": "code",
   "execution_count": 95,
   "metadata": {},
   "outputs": [
    {
     "name": "stdout",
     "output_type": "stream",
     "text": [
      "Dear Thomas Edison,\n",
      "You are invited to a dinner party at \n",
      "123 Time Travel blvd. We will be dining at 5:00PM 1/12/2020.\n",
      "\n",
      "Dear Leonardo Davinci,\n",
      "You are invited to a dinner party at \n",
      "123 Time Travel blvd. We will be dining at 5:00PM 1/12/2020.\n",
      "\n",
      "Dear Albert Einstein,\n",
      "You are invited to a dinner party at \n",
      "123 Time Travel blvd. We will be dining at 5:00PM 1/12/2020.\n",
      "\n",
      "Unfortunately Thomas Edison cannot make it to dinner as he \n",
      "is unable to charge his flux capacitor.\n",
      "\n",
      "Dear James Watt,\n",
      "You are invited to a dinner party at \n",
      "123 Time Travel blvd. We will be dining at 5:00PM 1/12/2020.\n",
      "\n",
      "Dear Leonardo Davinci,\n",
      "You are invited to a dinner party at \n",
      "123 Time Travel blvd. We will be dining at 5:00PM 1/12/2020.\n",
      "\n",
      "Dear Albert Einstein,\n",
      "You are invited to a dinner party at \n",
      "123 Time Travel blvd. We will be dining at 5:00PM 1/12/2020.\n",
      "\n"
     ]
    }
   ],
   "source": [
    "#3-5 Changing Guest List\n",
    "guest_list = ['thomas edison', 'leonardo davinci', \n",
    "            'albert einstein']\n",
    "invite1 = 'Dear '\n",
    "invite2 = ',\\nYou are invited to a dinner party at \\n123 Time Travel blvd. We will be dining at 5:00PM 1/12/2020.\\n'\n",
    "for guest in guest_list:\n",
    "    print(invite1 + guest.title() + invite2)\n",
    "reject=guest_list[0]\n",
    "print('Unfortunately ' + reject.title() + ' cannot make it to dinner as he \\nis unable to charge his flux capacitor.\\n')\n",
    "guest_list[0]='james watt'\n",
    "for guest in guest_list:\n",
    "    print(invite1 + guest.title() + invite2)"
   ]
  },
  {
   "cell_type": "markdown",
   "metadata": {},
   "source": [
    "3-6 More Guests:\n",
    "You just found a bigger dinner table, so now more space is\n",
    "available. Think of three more guests to invite to dinner.\n",
    "    • Start with your program from Exercise 3-4 or Exercise 3-5. Add a print\n",
    "    statement to the end of your program informing people that you found a\n",
    "    bigger dinner table.\n",
    "    • Use insert() to add one new guest to the beginning of your list.\n",
    "    • Use insert() to add one new guest to the middle of your list.\n",
    "    • Use append() to add one new guest to the end of your list.\n",
    "    • Print a new set of invitation messages, one for each person in your list."
   ]
  },
  {
   "cell_type": "code",
   "execution_count": 116,
   "metadata": {},
   "outputs": [
    {
     "name": "stdout",
     "output_type": "stream",
     "text": [
      "Dear Thomas Edison,\n",
      "We are excited to annouce we have found \n",
      "a larger table!\n",
      "\n",
      "Dear Leonardo Davinci,\n",
      "We are excited to annouce we have found \n",
      "a larger table!\n",
      "\n",
      "Dear Albert Einstein,\n",
      "We are excited to annouce we have found \n",
      "a larger table!\n",
      "\n",
      "Dear Elon Musk,\n",
      "You are invited to a dinner party at \n",
      "123 Time Travel blvd. We will be dining at 5:00PM 1/12/2020.\n",
      "\n",
      "Dear Thomas Edison,\n",
      "You are invited to a dinner party at \n",
      "123 Time Travel blvd. We will be dining at 5:00PM 1/12/2020.\n",
      "\n",
      "Dear Steven Hawking,\n",
      "You are invited to a dinner party at \n",
      "123 Time Travel blvd. We will be dining at 5:00PM 1/12/2020.\n",
      "\n",
      "Dear Leonardo Davinci,\n",
      "You are invited to a dinner party at \n",
      "123 Time Travel blvd. We will be dining at 5:00PM 1/12/2020.\n",
      "\n",
      "Dear Albert Einstein,\n",
      "You are invited to a dinner party at \n",
      "123 Time Travel blvd. We will be dining at 5:00PM 1/12/2020.\n",
      "\n",
      "Dear Issac Newton,\n",
      "You are invited to a dinner party at \n",
      "123 Time Travel blvd. We will be dining at 5:00PM 1/12/2020.\n",
      "\n"
     ]
    }
   ],
   "source": [
    "#3-6 More Guests\n",
    "guest_list = ['thomas edison', 'leonardo davinci', \n",
    "            'albert einstein']\n",
    "invite1 = 'Dear '\n",
    "invite2 = ',\\nYou are invited to a dinner party at \\n123 Time Travel blvd. We will be dining at 5:00PM 1/12/2020.\\n'\n",
    "#for guest in guest_list:\n",
    "    #print(invite1 + guest.title() + invite2)\n",
    "#reject=guest_list[0]\n",
    "#print('Unfortunately ' + reject.title() + ' cannot make it to dinner as he \\nis unable to charge his flux capacitor.\\n')\n",
    "guest_list[0]='james watt'\n",
    "#for guest in guest_list:\n",
    "    #print(invite1 + guest.title() + invite2)\n",
    "bigger_table=',\\nWe are excited to annouce we have found \\na larger table!\\n'\n",
    "for guest in guest_list:\n",
    "    print(invite1 + guest.title() + bigger_table)\n",
    "guest_list.insert(0, 'elon musk')\n",
    "guest_list.insert(2, 'steven hawking')\n",
    "guest_list.append('issac newton')\n",
    "for guest in guest_list:\n",
    "    print(invite1 + guest.title() + invite2)"
   ]
  },
  {
   "cell_type": "markdown",
   "metadata": {},
   "source": [
    "3-8 Seeing the World:\n",
    "Think of at least five places in the world you’d like to visit.\n",
    "    • Store the locations in a list. Make sure the list is not in alphabetical order.\n",
    "    • Print your list in its original order. Don’t worry about printing the list neatly, just print it as a raw Python list.\n",
    "    • Use sorted() to print your list in alphabetical order without modifying the actual list.\n",
    "    • Show that your list is still in its original order by printing it.\n",
    "    • Use sorted() to print your list in reverse alphabetical order without changing the order of the original list.\n",
    "    • Show that your list is still in its original order by printing it again.\n",
    "    • Use reverse() to change the order of your list. Print the list to show that its order has changed.\n",
    "    • Use reverse() to change the order of your list again. Print the list to show it’s back to its original order.\n",
    "    • Use sort() to change your list so it’s stored in alphabetical order. Print the list to show that its order has been changed.\n",
    "    • Use sort() to change your list so it’s stored in reverse alphabetical order. Print the list to show that its order has changed."
   ]
  },
  {
   "cell_type": "code",
   "execution_count": 115,
   "metadata": {},
   "outputs": [
    {
     "name": "stdout",
     "output_type": "stream",
     "text": [
      "['Hawaii', 'Alaska', 'Venice', 'Tokyo', 'Great Wall of China']\n",
      "['Alaska', 'Great Wall of China', 'Hawaii', 'Tokyo', 'Venice']\n",
      "['Hawaii', 'Alaska', 'Venice', 'Tokyo', 'Great Wall of China']\n",
      "['Great Wall of China', 'Tokyo', 'Venice', 'Alaska', 'Hawaii']\n",
      "['Hawaii', 'Alaska', 'Venice', 'Tokyo', 'Great Wall of China']\n",
      "['Alaska', 'Great Wall of China', 'Hawaii', 'Tokyo', 'Venice']\n",
      "['Venice', 'Tokyo', 'Hawaii', 'Great Wall of China', 'Alaska']\n"
     ]
    }
   ],
   "source": [
    "#3-8 Seeing the World\n",
    "dest=['Hawaii', 'Alaska', 'Venice', 'Tokyo', 'Great Wall of China']\n",
    "print(dest)\n",
    "print(sorted(dest))\n",
    "print(dest)\n",
    "dest.reverse()\n",
    "print(dest)\n",
    "dest.reverse()\n",
    "print(dest)\n",
    "dest.sort()\n",
    "print(dest)\n",
    "dest.sort(reverse=True)\n",
    "print(dest)"
   ]
  },
  {
   "cell_type": "markdown",
   "metadata": {},
   "source": [
    "3-9 Dinner Guests:\n",
    "Working with one of the programs from Exercises 3-4\n",
    "through 3-7 (page 46), use len() to print a message indicating the number\n",
    "of people you are inviting to dinner."
   ]
  },
  {
   "cell_type": "code",
   "execution_count": 118,
   "metadata": {},
   "outputs": [
    {
     "name": "stdout",
     "output_type": "stream",
     "text": [
      "I am inviting 6 people to dinner\n"
     ]
    }
   ],
   "source": [
    "#3-9 Dinner Guests\n",
    "guest_list = ['thomas edison', 'leonardo davinci', \n",
    "            'albert einstein']\n",
    "invite1 = 'Dear '\n",
    "invite2 = ',\\nYou are invited to a dinner party at \\n123 Time Travel blvd. We will be dining at 5:00PM 1/12/2020.\\n'\n",
    "#for guest in guest_list:\n",
    "    #print(invite1 + guest.title() + invite2)\n",
    "#reject=guest_list[0]\n",
    "#print('Unfortunately ' + reject.title() + ' cannot make it to dinner as he \\nis unable to charge his flux capacitor.\\n')\n",
    "guest_list[0]='james watt'\n",
    "#for guest in guest_list:\n",
    "#    print(invite1 + guest.title() + invite2)\n",
    "#bigger_table=',\\nWe are excited to annouce we have found \\na larger table!\\n'\n",
    "#for guest in guest_list:\n",
    "#    print(invite1 + guest.title() + bigger_table)\n",
    "guest_list.insert(0, 'elon musk')\n",
    "guest_list.insert(2, 'steven hawking')\n",
    "guest_list.append('issac newton')\n",
    "#for guest in guest_list:\n",
    "#    print(invite1 + guest.title() + invite2)\n",
    "print('I am inviting ' + str(len(guest_list)) + ' people to dinner.')"
   ]
  }
 ],
 "metadata": {
  "kernelspec": {
   "display_name": "Python 3",
   "language": "python",
   "name": "python3"
  },
  "language_info": {
   "codemirror_mode": {
    "name": "ipython",
    "version": 3
   },
   "file_extension": ".py",
   "mimetype": "text/x-python",
   "name": "python",
   "nbconvert_exporter": "python",
   "pygments_lexer": "ipython3",
   "version": "3.7.4"
  }
 },
 "nbformat": 4,
 "nbformat_minor": 2
}
